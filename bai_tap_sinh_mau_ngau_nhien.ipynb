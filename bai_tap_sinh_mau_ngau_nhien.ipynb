{
 "cells": [
  {
   "cell_type": "code",
   "execution_count": 3,
   "metadata": {},
   "outputs": [],
   "source": [
    "import numpy as np"
   ]
  },
  {
   "cell_type": "markdown",
   "metadata": {
    "id": "aJRq49LLUxph"
   },
   "source": [
    "Sử dụng thư viện Numpy\n",
    "\n",
    "1. Sinh mẫu ngẫu nhiên bằng hàm arange trong khoảng [-15, 27] với khoảng cách là 0.7 và in kết quả ra màn hình"
   ]
  },
  {
   "cell_type": "code",
   "execution_count": 5,
   "metadata": {
    "id": "qTRj401OUxpw"
   },
   "outputs": [
    {
     "data": {
      "text/plain": [
       "array([-15. , -14.3, -13.6, -12.9, -12.2, -11.5, -10.8, -10.1,  -9.4,\n",
       "        -8.7,  -8. ,  -7.3,  -6.6,  -5.9,  -5.2,  -4.5,  -3.8,  -3.1,\n",
       "        -2.4,  -1.7,  -1. ,  -0.3,   0.4,   1.1,   1.8,   2.5,   3.2,\n",
       "         3.9,   4.6,   5.3,   6. ,   6.7,   7.4,   8.1,   8.8,   9.5,\n",
       "        10.2,  10.9,  11.6,  12.3,  13. ,  13.7,  14.4,  15.1,  15.8,\n",
       "        16.5,  17.2,  17.9,  18.6,  19.3,  20. ,  20.7,  21.4,  22.1,\n",
       "        22.8,  23.5,  24.2,  24.9,  25.6,  26.3,  27. ])"
      ]
     },
     "execution_count": 5,
     "metadata": {},
     "output_type": "execute_result"
    }
   ],
   "source": [
    "sample1 = np.arange(-15, 27, 0.7)\n",
    "sample1"
   ]
  },
  {
   "cell_type": "markdown",
   "metadata": {
    "id": "H66Op2a2Uxpy"
   },
   "source": [
    "2. Sinh mẫu ngẫu nhiên theo phân phối chuẩn với mean = 2.7 std = 1.2 và size = 40\n",
    "In kết quả ra màn hình"
   ]
  },
  {
   "cell_type": "code",
   "execution_count": 6,
   "metadata": {
    "id": "4g69UrqcUxpz"
   },
   "outputs": [
    {
     "data": {
      "text/plain": [
       "array([1.97094276, 2.5486363 , 1.87847237, 3.8144577 , 0.48671876,\n",
       "       2.13959709, 5.45098841, 3.28657207, 3.55232039, 3.96664133,\n",
       "       2.76488772, 3.0095441 , 3.40593798, 3.76229309, 1.47959157,\n",
       "       2.53956836, 2.1741774 , 3.29213219, 2.46118906, 1.17001967,\n",
       "       3.05219299, 2.83074037, 2.73807214, 4.22716784, 3.98573748,\n",
       "       3.19898161, 4.56081508, 2.3263453 , 1.04491211, 4.34569054,\n",
       "       2.73325398, 2.31552051, 1.68459551, 2.1798853 , 1.0955586 ,\n",
       "       2.9510066 , 0.99081444, 2.03582778, 2.78975837, 2.0932562 ])"
      ]
     },
     "execution_count": 6,
     "metadata": {},
     "output_type": "execute_result"
    }
   ],
   "source": [
    "np.random.seed(40)\n",
    "sample2 = np.random.normal(2.7,1.2,40)\n",
    "sample2"
   ]
  },
  {
   "cell_type": "markdown",
   "metadata": {
    "id": "NXZM9a0UUxp0"
   },
   "source": [
    "3. Sinh mẫu ngẫu nhiên từ vector ['Viet Nam', 'Britain', 'France', 'Russia', 'Singapore'] \n",
    "\n",
    "với kích thước là 17 theo phân phối chuẩn"
   ]
  },
  {
   "cell_type": "code",
   "execution_count": 8,
   "metadata": {
    "id": "kdJL9gSAUxp1"
   },
   "outputs": [
    {
     "name": "stdout",
     "output_type": "stream",
     "text": [
      "['France' 'Britain' 'France' 'Russia' 'Russia' 'Britain' 'Viet Nam'\n",
      " 'Viet Nam' 'Russia' 'France' 'France' 'Singapore' 'Britain' 'France'\n",
      " 'Russia' 'Singapore' 'Russia']\n"
     ]
    }
   ],
   "source": [
    "sample3 = np.random.choice( ['Viet Nam', 'Britain', 'France', 'Russia', 'Singapore'], 17)\n",
    "print(sample3)"
   ]
  },
  {
   "cell_type": "markdown",
   "metadata": {
    "id": "TYKeEyGrUxp2"
   },
   "source": [
    "4. Sinh mẫu ngẫu nhiên ở câu 3 nhưng không theo phân phối chuẩn mà theo 1 vector đặc tả giá trị xác suất do bạn chọn"
   ]
  },
  {
   "cell_type": "code",
   "execution_count": 10,
   "metadata": {
    "id": "r-RyKHjOUxp3"
   },
   "outputs": [
    {
     "name": "stdout",
     "output_type": "stream",
     "text": [
      "['Viet Nam' 'Singapore' 'Viet Nam' 'France' 'Britain' 'Singapore' 'Russia'\n",
      " 'Russia' 'Viet Nam' 'Singapore' 'France' 'Britain' 'Russia' 'Britain'\n",
      " 'France' 'Russia' 'Viet Nam']\n"
     ]
    }
   ],
   "source": [
    "sample4 = np.random.choice( ['Viet Nam', 'Britain', 'France', 'Russia', 'Singapore'], 17, p = [0.2, 0.3, 0.1, 0.2, 0.2])\n",
    "print(sample4)"
   ]
  },
  {
   "cell_type": "markdown",
   "metadata": {
    "id": "twOuhBcqUxp4"
   },
   "source": [
    "Sử dụng thư việc scipy.stats để sinh mẫu ngẫu nhiên\n",
    "\n",
    "1. Sinh mẫu ngẫu nhiên theo phân phối chuẩn với mean = 12.7, std = 2.6 và size = 30. In kết quả ra màn hình"
   ]
  },
  {
   "cell_type": "code",
   "execution_count": 11,
   "metadata": {},
   "outputs": [],
   "source": [
    "from scipy import stats as st"
   ]
  },
  {
   "cell_type": "code",
   "execution_count": 13,
   "metadata": {
    "id": "nBcXs3JgUxp4"
   },
   "outputs": [
    {
     "name": "stdout",
     "output_type": "stream",
     "text": [
      "[11.64965168 10.44065761 10.53905004  6.47680808 15.89159946  7.34730235\n",
      " 16.13383809 10.43470483 13.47810451 13.51678766 11.12282126 14.7873727\n",
      " 15.93929645 10.08312143 14.06095561 12.97359868  8.96531114 14.7244812\n",
      " 16.82809401 15.70701206 15.23968621 12.4375582  15.58204877 11.52055657\n",
      " 16.62667784 10.99765459 14.41288343 12.0753433   9.11514888 10.39055645]\n"
     ]
    }
   ],
   "source": [
    "sample5 = st.norm.rvs(loc = 12.7, scale = 2.6, size = 30)\n",
    "print(sample5)"
   ]
  },
  {
   "cell_type": "markdown",
   "metadata": {
    "id": "qF7k0WXkUxp5"
   },
   "source": [
    "2. Hãy sinh một mẫu ngẫu nhiên theo phân phối Poisson"
   ]
  },
  {
   "cell_type": "code",
   "execution_count": 18,
   "metadata": {
    "id": "Yq-dDod2Uxp5"
   },
   "outputs": [
    {
     "name": "stdout",
     "output_type": "stream",
     "text": [
      "[62 57 53 58 55 56 66 60 62 66 59 53 63 62 68 54 56 78 59 60 60 49 57 65\n",
      " 55 74 66 64 61 59 57 60 59 61 60 62 62 60 50 59 68 55 62 65 67 60 52 58\n",
      " 61 56]\n"
     ]
    }
   ],
   "source": [
    "sample6 = st.poisson.rvs(loc=20, mu=40, size=50)\n",
    "print(sample6)"
   ]
  }
 ],
 "metadata": {
  "colab": {
   "name": "bai-tap-sinh-mau-ngau-nhien.ipynb",
   "provenance": []
  },
  "kernelspec": {
   "display_name": "Python 3",
   "language": "python",
   "name": "python3"
  },
  "language_info": {
   "codemirror_mode": {
    "name": "ipython",
    "version": 3
   },
   "file_extension": ".py",
   "mimetype": "text/x-python",
   "name": "python",
   "nbconvert_exporter": "python",
   "pygments_lexer": "ipython3",
   "version": "3.8.3"
  }
 },
 "nbformat": 4,
 "nbformat_minor": 1
}
