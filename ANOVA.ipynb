{
 "cells": [
  {
   "cell_type": "code",
   "execution_count": 1,
   "metadata": {},
   "outputs": [],
   "source": [
    "from scipy.stats import f_oneway"
   ]
  },
  {
   "cell_type": "code",
   "execution_count": 2,
   "metadata": {},
   "outputs": [],
   "source": [
    "#enter exam scores for each group\n",
    "group1 = [85, 86, 88, 75, 78, 94, 98, 79, 71, 80]\n",
    "group2 = [91, 92, 93, 85, 87, 84, 82, 88, 95, 96]\n",
    "group3 = [79, 78, 88, 94, 92, 85, 83, 85, 82, 81]"
   ]
  },
  {
   "cell_type": "code",
   "execution_count": 10,
   "metadata": {},
   "outputs": [
    {
     "name": "stdout",
     "output_type": "stream",
     "text": [
      "statistic: 2.3575322551335636 ; p value: 0.11384795345837218\n"
     ]
    }
   ],
   "source": [
    "#perform one-way ANOVA\n",
    "statistic,p_value = f_oneway(group1, group2, group3)\n",
    "print('statistic:',statistic, '; p value:',p_value)"
   ]
  }
 ],
 "metadata": {
  "kernelspec": {
   "display_name": "Python 3",
   "language": "python",
   "name": "python3"
  },
  "language_info": {
   "codemirror_mode": {
    "name": "ipython",
    "version": 3
   },
   "file_extension": ".py",
   "mimetype": "text/x-python",
   "name": "python",
   "nbconvert_exporter": "python",
   "pygments_lexer": "ipython3",
   "version": "3.8.3"
  }
 },
 "nbformat": 4,
 "nbformat_minor": 4
}
