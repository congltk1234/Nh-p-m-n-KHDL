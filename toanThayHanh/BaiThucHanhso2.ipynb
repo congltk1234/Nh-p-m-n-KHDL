{
 "cells": [
  {
   "cell_type": "markdown",
   "metadata": {},
   "source": [
    "Bài thực hành 2:\n",
    "\n",
    "Mục đích: Kiểm tra dữ liệu có tuân theo phân phối chuẩn $X \\sim N(\\mu, \\sigma)$\n",
    "\n",
    "Có 2 cách tiếp cận:\n",
    "- I/ Sử dụng trực quan (Visualization)\n",
    "    - 1. Tính thống kê mô tả của data: mean, med, std, bách phân vị\n",
    "    - 2. Sử dụng biểu đồ histogram, vẽ thêm normal curve \n",
    "    - 3. QQ-plot để so sánh với đường thẳng chuẩn\n",
    "    - 4. Tìm hiểu thêm về Feature Engineering\n",
    "    \n",
    "Nội dung thực hành:\n",
    "- Viết 1 class:\n",
    "    - input: mảng data\n",
    "    - output: tham số $\\rightarrow$ mean, med, mod, max, min (nằm trong __init__)\n",
    "    - method $\\rightarrow$ quantile() = ?, hist(), qq() (nằm trong def return)"
   ]
  },
  {
   "cell_type": "code",
   "execution_count": 1,
   "metadata": {},
   "outputs": [],
   "source": [
    "import numpy as np\n",
    "import pandas as pd\n",
    "from scipy import stats\n",
    "import statistics\n",
    "import matplotlib.pyplot as plt\n",
    "import seaborn as sns\n",
    "import statsmodels.api as sm\n",
    "import pylab"
   ]
  },
  {
   "cell_type": "code",
   "execution_count": 2,
   "metadata": {},
   "outputs": [],
   "source": [
    "class Bai2():\n",
    "    def __init__(self, data):\n",
    "        self.data = pd.DataFrame(data)\n",
    "        self.mean = np.mean(data)\n",
    "        self.med = np.median(data)\n",
    "        self.mod = statistics.mode(data)\n",
    "        self.min = np.min(data)\n",
    "        self.max = np.max(data)\n",
    "        self.std = np.std(data)\n",
    "        \n",
    "    def hist(self):\n",
    "        plt.figure()\n",
    "        sns.set_theme(style=\"ticks\")\n",
    "        ax = sns.distplot(data, kde=True)\n",
    "        plt.axvline(self.mean, color=\"r\", linestyle=\"dashed\", linewidth=3)\n",
    "        plt.show()\n",
    "        \n",
    "    def qq(self):\n",
    "        plt.figure()\n",
    "        sm.qqplot(data, line='45')\n",
    "        plt.show()\n",
    "        a = [0.25,0.5,0.75]\n",
    "        a = self.data.quantile(a,axis=0)\n",
    "        return a"
   ]
  },
  {
   "cell_type": "code",
   "execution_count": 3,
   "metadata": {},
   "outputs": [
    {
     "data": {
      "text/html": [
       "<div>\n",
       "<style scoped>\n",
       "    .dataframe tbody tr th:only-of-type {\n",
       "        vertical-align: middle;\n",
       "    }\n",
       "\n",
       "    .dataframe tbody tr th {\n",
       "        vertical-align: top;\n",
       "    }\n",
       "\n",
       "    .dataframe thead th {\n",
       "        text-align: right;\n",
       "    }\n",
       "</style>\n",
       "<table border=\"1\" class=\"dataframe\">\n",
       "  <thead>\n",
       "    <tr style=\"text-align: right;\">\n",
       "      <th></th>\n",
       "      <th>0</th>\n",
       "    </tr>\n",
       "  </thead>\n",
       "  <tbody>\n",
       "    <tr>\n",
       "      <th>0</th>\n",
       "      <td>-0.377364</td>\n",
       "    </tr>\n",
       "    <tr>\n",
       "      <th>1</th>\n",
       "      <td>0.166759</td>\n",
       "    </tr>\n",
       "    <tr>\n",
       "      <th>2</th>\n",
       "      <td>0.682802</td>\n",
       "    </tr>\n",
       "    <tr>\n",
       "      <th>3</th>\n",
       "      <td>1.921379</td>\n",
       "    </tr>\n",
       "    <tr>\n",
       "      <th>4</th>\n",
       "      <td>-0.197037</td>\n",
       "    </tr>\n",
       "    <tr>\n",
       "      <th>...</th>\n",
       "      <td>...</td>\n",
       "    </tr>\n",
       "    <tr>\n",
       "      <th>495</th>\n",
       "      <td>-1.816454</td>\n",
       "    </tr>\n",
       "    <tr>\n",
       "      <th>496</th>\n",
       "      <td>0.060859</td>\n",
       "    </tr>\n",
       "    <tr>\n",
       "      <th>497</th>\n",
       "      <td>-0.975374</td>\n",
       "    </tr>\n",
       "    <tr>\n",
       "      <th>498</th>\n",
       "      <td>1.293571</td>\n",
       "    </tr>\n",
       "    <tr>\n",
       "      <th>499</th>\n",
       "      <td>0.004885</td>\n",
       "    </tr>\n",
       "  </tbody>\n",
       "</table>\n",
       "<p>500 rows × 1 columns</p>\n",
       "</div>"
      ],
      "text/plain": [
       "            0\n",
       "0   -0.377364\n",
       "1    0.166759\n",
       "2    0.682802\n",
       "3    1.921379\n",
       "4   -0.197037\n",
       "..        ...\n",
       "495 -1.816454\n",
       "496  0.060859\n",
       "497 -0.975374\n",
       "498  1.293571\n",
       "499  0.004885\n",
       "\n",
       "[500 rows x 1 columns]"
      ]
     },
     "execution_count": 3,
     "metadata": {},
     "output_type": "execute_result"
    }
   ],
   "source": [
    "np.random.seed(500)\n",
    "data = np.random.normal(0,1,500)\n",
    "test = Bai2(data)\n",
    "test.data"
   ]
  },
  {
   "cell_type": "code",
   "execution_count": 4,
   "metadata": {},
   "outputs": [
    {
     "name": "stdout",
     "output_type": "stream",
     "text": [
      "Mean: -0.0009059197017364013\n",
      "Median: -0.005240597159497326\n",
      "Mode: -0.37736358073133586\n",
      "Max: 3.0168430084956612\n",
      "Min: -2.789596002143319\n",
      "Standard Deviation: 0.9586297868143148\n"
     ]
    }
   ],
   "source": [
    "print('Mean:',test.mean)\n",
    "print('Median:',test.med)\n",
    "print('Mode:',test.mod)\n",
    "print('Max:',test.max)\n",
    "print('Min:',test.min)\n",
    "print('Standard Deviation:', test.std)"
   ]
  },
  {
   "cell_type": "code",
   "execution_count": 5,
   "metadata": {},
   "outputs": [
    {
     "name": "stderr",
     "output_type": "stream",
     "text": [
      "C:\\Users\\ADMIN\\anaconda3\\lib\\site-packages\\seaborn\\distributions.py:2557: FutureWarning: `distplot` is a deprecated function and will be removed in a future version. Please adapt your code to use either `displot` (a figure-level function with similar flexibility) or `histplot` (an axes-level function for histograms).\n",
      "  warnings.warn(msg, FutureWarning)\n"
     ]
    },
    {
     "data": {
      "image/png": "[encoded data removed]",
      "text/plain": [
       "<Figure size 432x288 with 1 Axes>"
      ]
     },
     "metadata": {
      "needs_background": "light"
     },
     "output_type": "display_data"
    }
   ],
   "source": [
    "test.hist()"
   ]
  },
  {
   "cell_type": "code",
   "execution_count": 7,
   "metadata": {},
   "outputs": [
    {
     "data": {
      "text/plain": [
       "<Figure size 432x288 with 0 Axes>"
      ]
     },
     "metadata": {},
     "output_type": "display_data"
    },
    {
     "data": {
      "image/png": "[encoded data removed]",
      "text/plain": [
       "<Figure size 432x288 with 1 Axes>"
      ]
     },
     "metadata": {},
     "output_type": "display_data"
    },
    {
     "data": {
      "text/html": [
       "<div>\n",
       "<style scoped>\n",
       "    .dataframe tbody tr th:only-of-type {\n",
       "        vertical-align: middle;\n",
       "    }\n",
       "\n",
       "    .dataframe tbody tr th {\n",
       "        vertical-align: top;\n",
       "    }\n",
       "\n",
       "    .dataframe thead th {\n",
       "        text-align: right;\n",
       "    }\n",
       "</style>\n",
       "<table border=\"1\" class=\"dataframe\">\n",
       "  <thead>\n",
       "    <tr style=\"text-align: right;\">\n",
       "      <th></th>\n",
       "      <th>0</th>\n",
       "    </tr>\n",
       "  </thead>\n",
       "  <tbody>\n",
       "    <tr>\n",
       "      <th>0.25</th>\n",
       "      <td>-0.619013</td>\n",
       "    </tr>\n",
       "    <tr>\n",
       "      <th>0.50</th>\n",
       "      <td>-0.005241</td>\n",
       "    </tr>\n",
       "    <tr>\n",
       "      <th>0.75</th>\n",
       "      <td>0.684100</td>\n",
       "    </tr>\n",
       "  </tbody>\n",
       "</table>\n",
       "</div>"
      ],
      "text/plain": [
       "             0\n",
       "0.25 -0.619013\n",
       "0.50 -0.005241\n",
       "0.75  0.684100"
      ]
     },
     "execution_count": 7,
     "metadata": {},
     "output_type": "execute_result"
    }
   ],
   "source": [
    "test.qq()"
   ]
  }
 ],
 "metadata": {
  "kernelspec": {
   "display_name": "Python 3",
   "language": "python",
   "name": "python3"
  },
  "language_info": {
   "codemirror_mode": {
    "name": "ipython",
    "version": 3
   },
   "file_extension": ".py",
   "mimetype": "text/x-python",
   "name": "python",
   "nbconvert_exporter": "python",
   "pygments_lexer": "ipython3",
   "version": "3.8.3"
  }
 },
 "nbformat": 4,
 "nbformat_minor": 4
}
