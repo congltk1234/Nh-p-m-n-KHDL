{
 "cells": [
  {
   "cell_type": "markdown",
   "metadata": {},
   "source": [
    "\n",
    "Viết 1 class để thực hiện:\n",
    "\n",
    "Dựng hàm khởi tạo để nhập vào 2 mảng\n",
    "\n",
    "Tính GTTB (mean) của 2 mảng ($\\mu_{1},\\mu_{2}$)\n",
    "\n",
    "Tính mode ($m_{1},m_{2}$)\n",
    "\n",
    "Tính phương sai ($v_{1}, v_{2}$)\n",
    "\n",
    "Tính độ lệch chuẩn $\\sigma_{1}, \\sigma_{2}$"
   ]
  },
  {
   "cell_type": "code",
   "execution_count": 2,
   "metadata": {},
   "outputs": [],
   "source": [
    "import numpy as np\n",
    "import math"
   ]
  },
  {
   "cell_type": "code",
   "execution_count": 5,
   "metadata": {},
   "outputs": [
    {
     "name": "stdout",
     "output_type": "stream",
     "text": [
      "Mảng a1: [0.75732426 0.16882799 0.07632065 0.53068526 0.13146908 0.42783921\n",
      " 0.38122058 0.33268478 0.9275025  0.57808118]\n",
      "Giá trị trung bình: 0.4311955493134768\n",
      "Mode: 0.7573242640837654\n",
      "Phương sai: 0.06809761406249992\n",
      "Độ lệch chuẩn: 0.2609551955077728\n"
     ]
    }
   ],
   "source": [
    "class Array:\n",
    "  def __init__(self, n):\n",
    "    self.a = np.random.rand(n)\n",
    "    self.n = n\n",
    "\n",
    "  def mean(self):\n",
    "    return float((sum(self.a)/self.n))\n",
    "\n",
    "  def mode(self):\n",
    "    giatri_max = (0,0)\n",
    "    listnum = list(self.a)\n",
    "    for num in listnum:\n",
    "      so_bien  = listnum.count(num)\n",
    "      if so_bien > giatri_max[0]:\n",
    "        giatri_max = (so_bien, num)\n",
    "    return giatri_max[1]\n",
    "\n",
    "  def variance(self):\n",
    "    #Trung bình\n",
    "    m = self.mean()\n",
    "    deviations = [(x - m) ** 2 for x in self.a]\n",
    "    v= sum(deviations) / n\n",
    "    return v\n",
    "\n",
    "  def standard_deviation(self):\n",
    "    result = math.sqrt(self.variance())\n",
    "    return result\n",
    "\n",
    "n = 10\n",
    "a1 = Array(n)\n",
    "print('Mảng a1:',a1.a)\n",
    "print('Giá trị trung bình:',a1.mean())\n",
    "print('Mode:',a1.mode())\n",
    "print('Phương sai:',a1.variance())\n",
    "print('Độ lệch chuẩn:',a1.standard_deviation())"
   ]
  }
 ],
 "metadata": {
  "kernelspec": {
   "display_name": "Python 3",
   "language": "python",
   "name": "python3"
  },
  "language_info": {
   "codemirror_mode": {
    "name": "ipython",
    "version": 3
   },
   "file_extension": ".py",
   "mimetype": "text/x-python",
   "name": "python",
   "nbconvert_exporter": "python",
   "pygments_lexer": "ipython3",
   "version": "3.8.3"
  }
 },
 "nbformat": 4,
 "nbformat_minor": 4
}
