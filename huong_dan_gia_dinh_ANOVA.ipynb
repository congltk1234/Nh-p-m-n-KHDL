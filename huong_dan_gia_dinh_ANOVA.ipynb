{
 "cells": [
  {
   "cell_type": "markdown",
   "metadata": {
    "id": "xzASWRBnPAsl"
   },
   "source": [
    "PHÂN TÍCH ANOVA MỘT CHIỀU\n",
    "\n",
    "Phân tích ANOVA chấp nhận các giả định sau:\n",
    "\n",
    "(1) Tất cả các nhóm đều độc lập với nhau\n",
    "\n",
    "(2) Dữ liệu của mỗi nhóm đều tuân theo phân phối chuẩn. Tính chất này có thể được kiểm định bằng phương pháp Shapiro-Wilks.\n",
    "\n",
    "(3) Phương sai (variance) của các nhóm bằng nhau. Tính chất này có thể được kiểm định bằng phương pháp kiểm định Bartlett hay Levene.\n",
    "\n",
    "Nếu dữ liệu hiện có thỏa mãn các tính chất trên thì chúng ta mới tiến hành kiểm định ANOVA. Do vậy trước khi tiến hành kiểm định ANOVA, chúng ta cần thực hiện kiểm tra tập dữ liệu cần thỏa mãn 3 tính chất trên.\n",
    "    "
   ]
  },
  {
   "cell_type": "code",
   "execution_count": 2,
   "metadata": {},
   "outputs": [],
   "source": [
    "import numpy as np\n",
    "import pandas as pd\n",
    "import matplotlib.pyplot as plt\n",
    "from scipy import stats as st"
   ]
  },
  {
   "cell_type": "code",
   "execution_count": 55,
   "metadata": {
    "id": "BDgYj6asPAst"
   },
   "outputs": [
    {
     "name": "stdout",
     "output_type": "stream",
     "text": [
      "[ 6.66112457  0.62110402  1.11624458  0.47097816  9.7156247   2.07291143\n",
      "  6.44209636  6.87684292  7.16705905  7.73097933  5.15740241  0.79962718\n",
      "  4.50698055  2.99174521  7.1359379   7.56596324  5.52939014  8.20725877\n",
      "  6.51969839  7.14061325  7.01466545  8.14646883  4.8883775   5.16711003\n",
      " 10.76238383  8.21544166  7.57294577  7.0347106   1.450277    2.21320323\n",
      "  4.29635357  2.05605854  8.83555745  8.35705141  8.1904709   8.19477473\n",
      "  8.93832515  7.08430618 10.1528604   6.1345226   3.39782353  5.62714179\n",
      "  7.53624464  9.30945839  7.27855527  8.13502557 10.38316244  3.80397247\n",
      "  6.97555238  3.83253193  9.78948565  5.40269326  2.30568476  4.90665949\n",
      "  8.47215826  3.74800578  3.76577354  4.3219004   5.90929755 -0.87384642\n",
      "  4.58531131  6.50806448  5.60776261  4.5796361   7.00237742  2.2279008\n",
      "  3.53679091  1.18695449  0.50494142  7.12692746  2.6481669   2.39949394\n",
      "  8.22869619  8.17451467  3.13466687  1.45881623  5.40598013  8.48854614\n",
      "  9.80069622  8.88392022 10.05127376  7.70080223  3.86361053  5.80693278\n",
      " 10.31383678  7.51227476  7.46698331  1.55142539  5.81500112  6.29098161\n",
      "  5.4283857   9.73670434 11.36036308  5.23503827  9.77664788  2.65078881\n",
      "  5.2251827   4.05546068  2.33928304  3.54451073]\n"
     ]
    }
   ],
   "source": [
    "#Bước 1: Hãy tạo một tập dữ liệu mẫu sample_1 với kích thước 100 tuân theo phân phối chuẩn\n",
    "np.random.seed(12345678)\n",
    "sample_1 = st.norm.rvs(loc=5, scale=3, size=100)\n",
    "print(sample_1)"
   ]
  },
  {
   "cell_type": "code",
   "execution_count": 56,
   "metadata": {
    "id": "TelVVqJ2PAsu"
   },
   "outputs": [
    {
     "name": "stdout",
     "output_type": "stream",
     "text": [
      "[27 35 31 21 21 23 28 33 23 23 30 29 21 28 31 24 28 33 26 27 25 24 21 22\n",
      " 25 24 26 30 22 28 24 29 33 21 21 21 29 27 32 27 25 28 29 29 25 25 30 24\n",
      " 27 19 24 30 24 30 20 28 21 27 25 23 32 23 36 24 28 27 34 19 23 24 27 24\n",
      " 23 18 29 19 22 29 18 23 30 24 22 23 19 29 30 35 17 21 37 21 22 24 31 24\n",
      " 28 19 21 24]\n"
     ]
    }
   ],
   "source": [
    "#Bước 2: hãy tạo tập dữ liệu mẫu sample_2 với kích thước 100 tuân theo phân phối Poisson\n",
    "np.random.seed(1000)\n",
    "sample_2 = st.poisson.rvs(loc=5, mu=20, size=100)\n",
    "print(sample_2)"
   ]
  },
  {
   "cell_type": "markdown",
   "metadata": {
    "id": "cgeVvrEzPAsv"
   },
   "source": [
    "Hãy tham khảo các hướng dẫn sau để kiểm định tính chất thứ 2 bằng phương pháp Shapiro-Wilks đối với sample_1 và sample_2\n",
    "\n",
    "(1) [Tài liệu tham khảo scipy](https://docs.scipy.org/doc/scipy/reference/generated/scipy.stats.shapiro.html)\n",
    "\n",
    "(2) [Hướng dẫn cụ thể của statology](https://www.statology.org/shapiro-wilk-test-python/)"
   ]
  },
  {
   "cell_type": "code",
   "execution_count": 58,
   "metadata": {
    "id": "AHe43lfUPAsv"
   },
   "outputs": [
    {
     "name": "stdout",
     "output_type": "stream",
     "text": [
      "ShapiroResult(statistic=0.9772805571556091, pvalue=0.08144091814756393)\n",
      "Mẫu 1 tuân theo phân phối chuẩn.\n"
     ]
    }
   ],
   "source": [
    "#Code kiểm định tính chất thứ 2 của sample_1 và sample_2\n",
    "alpha = 0.05\n",
    "# Kiểm định sample_1:\n",
    "shapiro_test1 = st.shapiro(sample_1)\n",
    "print(shapiro_test1)\n",
    "if (shapiro_test1.statistic > 0) and (shapiro_test1.pvalue > alpha):\n",
    "    print('Mẫu 1 tuân theo phân phối chuẩn.')\n",
    "else:\n",
    "    print('Mẫu 1 không tuân theo phân phối chuẩn.')"
   ]
  },
  {
   "cell_type": "code",
   "execution_count": 59,
   "metadata": {},
   "outputs": [
    {
     "name": "stdout",
     "output_type": "stream",
     "text": [
      "ShapiroResult(statistic=0.9750838875770569, pvalue=0.05477862432599068)\n",
      "Mẫu 2 tuân theo phân phối chuẩn.\n"
     ]
    }
   ],
   "source": [
    "# Kiểm định sample_2:\n",
    "shapiro_test2 = st.shapiro(sample_2)\n",
    "print(shapiro_test2)\n",
    "if (shapiro_test2.statistic > 0) and (shapiro_test2.pvalue > alpha):\n",
    "    print('Mẫu 2 tuân theo phân phối chuẩn.')\n",
    "else:\n",
    "    print('Mẫu 2 không tuân theo phân phối chuẩn.')"
   ]
  },
  {
   "cell_type": "markdown",
   "metadata": {
    "id": "Uct3J9rGPAsw"
   },
   "source": [
    "Hãy tham khảo các hướng dẫn sau để kiểm định tính chất thứ 3 bằng kiểm định Bartlett hoặc kiểm định Levene\n",
    "\n",
    "(1) [Hướng dẫn tổng quát](https://www.marsja.se/levenes-bartletts-test-of-equality-homogeneity-of-variance-in-python/)\n",
    "\n",
    "(2) [Hướng dẫn ở stackoverflow](https://stackoverflow.com/questions/36141254/how-to-test-for-homoscedasticity-having-the-same-population-variance-in-python)\n",
    "\n",
    "(3) Sử dụng bài giảng về kiểm định Bartlett và Levene ở buổi trước"
   ]
  },
  {
   "cell_type": "code",
   "execution_count": null,
   "metadata": {
    "id": "F1n1YULyPAsw"
   },
   "outputs": [],
   "source": [
    "#Code kiểm định tính đồng nhất về phương sai của các nhóm"
   ]
  },
  {
   "cell_type": "code",
   "execution_count": 53,
   "metadata": {
    "id": "qefu9tOQPAsx"
   },
   "outputs": [
    {
     "name": "stdout",
     "output_type": "stream",
     "text": [
      "BartlettResult(statistic=19.28888503696467, pvalue=1.1235852995377072e-05)\n",
      "Phương sai các nhóm bằng nhau.\n"
     ]
    }
   ],
   "source": [
    "# Kiểm định Bartlett - Kiểm định tính đồng nhất của các phương sai:\n",
    "bartlett_test = st.bartlett(sample_1,sample_2)\n",
    "print(bartlett_test)\n",
    "bartlettvalue,pvalue=bartlett_test\n",
    "if (bartlettvalue > 0) and (pvalue < alpha):\n",
    "    print('Phương sai các nhóm bằng nhau.')\n",
    "else:\n",
    "    print('Phương sai các nhóm không bằng nhau.')"
   ]
  }
 ],
 "metadata": {
  "colab": {
   "name": "huong-dan-gia-dinh-ANOVA.ipynb",
   "provenance": []
  },
  "kernelspec": {
   "display_name": "Python 3",
   "language": "python",
   "name": "python3"
  },
  "language_info": {
   "codemirror_mode": {
    "name": "ipython",
    "version": 3
   },
   "file_extension": ".py",
   "mimetype": "text/x-python",
   "name": "python",
   "nbconvert_exporter": "python",
   "pygments_lexer": "ipython3",
   "version": "3.8.3"
  }
 },
 "nbformat": 4,
 "nbformat_minor": 1
}
