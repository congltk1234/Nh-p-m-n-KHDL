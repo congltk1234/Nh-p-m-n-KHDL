{
 "cells": [
  {
   "cell_type": "markdown",
   "metadata": {},
   "source": [
    "# Lí thuyết\n",
    "\n",
    "ANOVA - ANallysis Of VAriance \n",
    "- Kiểm định ANOVA được sử dụng để so sánh giá trị trung bình của 2 nhóm hoặc nhiều hơn \n",
    "- Giá trị trung bình nhóm được suy ra từ việc phân tích phương sai\n",
    "- ANOVA sử dụng kiểm định F (Fisher) dựa trên phương sai để xem giá trị trung bình của các nhóm có bằng nhau hay không\n",
    "- Các loại kiểm định ANOVA:\n",
    "    - ANOVA một chiều (one factor)\n",
    "\t- ANOVA hai chiều ( two factor)\n",
    "\n",
    "Giả thuyết ANOVA\n",
    "- Giả thuyết rỗng $H_0$: Các giá trị trung bình của các nhóm bằng nhau \n",
    "$$H_0: \\mu_1 = \\mu_2 = ... = \\mu_n$$\n",
    "- Giả thuyết thay thế $H_1$ hay $H_\\alpha$: Có ít nhất một cặp giá trị trung bình của nhóm khác nhau\n",
    "$$H_\\alpha: \\mu_n \\neq \\mu_m$$ (m, n tùy ý và m $\\neq$ n)\n",
    "\n",
    "ANOVA assumptions\n",
    "- Các mẫu phải __`tuân theo phân phối chuẩn`__ ($\\rightarrow$ Shapiro-Wilks test)\n",
    "- Các phân phối phải có __`cùng phương sai`__ ($\\rightarrow$ (Levene’s or Bartlett’s Test)\n",
    "- Dữ liệu phải lấy **`độc lập`**\n",
    "\n",
    "Cách thực hiện ANOVA test\n",
    "\n",
    "- B1: Kiểm tra kích thước mẫu -> số lượng cá thể quan sát trong mỗi mẫu là phải như nhau\n",
    "- B2: Tính Mean Square (MS) cho mỗi nhóm  ($\\frac{Sum-of-Square}{level_1}$ = $\\frac{SS}{d_f}$ (level_1: là hệ số tự do $d_f$ cho 1 nhóm = số nhóm - 1)\n",
    "- B3: Tính sai số trung bình - Mean Square error MSE ($\\frac{SSE}{df-of-residuals}$)\n",
    "- B4: Tính giá trị F ($\\frac{MS-of-group}{MSE}$)"
   ]
  },
  {
   "cell_type": "markdown",
   "metadata": {},
   "source": [
    "### Thực hiện ANOVA test với Python"
   ]
  },
  {
   "cell_type": "code",
   "execution_count": 1,
   "metadata": {},
   "outputs": [],
   "source": [
    "import numpy as np\n",
    "import pandas as pd\n",
    "import statsmodels\n",
    "import statsmodels.api as sm\n",
    "from statsmodels.formula.api import ols"
   ]
  },
  {
   "cell_type": "markdown",
   "metadata": {},
   "source": [
    "B1: Nhập dữ liệu, kiểm tra trong mỗi nhóm số lượng cá thể có bằng nhau hay không"
   ]
  },
  {
   "cell_type": "code",
   "execution_count": 2,
   "metadata": {},
   "outputs": [
    {
     "data": {
      "text/html": [
       "<div>\n",
       "<style scoped>\n",
       "    .dataframe tbody tr th:only-of-type {\n",
       "        vertical-align: middle;\n",
       "    }\n",
       "\n",
       "    .dataframe tbody tr th {\n",
       "        vertical-align: top;\n",
       "    }\n",
       "\n",
       "    .dataframe thead th {\n",
       "        text-align: right;\n",
       "    }\n",
       "</style>\n",
       "<table border=\"1\" class=\"dataframe\">\n",
       "  <thead>\n",
       "    <tr style=\"text-align: right;\">\n",
       "      <th></th>\n",
       "      <th>Screen Size</th>\n",
       "      <th>Weight</th>\n",
       "      <th>Brightness</th>\n",
       "    </tr>\n",
       "  </thead>\n",
       "  <tbody>\n",
       "    <tr>\n",
       "      <th>0</th>\n",
       "      <td>10.006692</td>\n",
       "      <td>29.313384</td>\n",
       "      <td>19.825988</td>\n",
       "    </tr>\n",
       "    <tr>\n",
       "      <th>1</th>\n",
       "      <td>10.081624</td>\n",
       "      <td>29.463248</td>\n",
       "      <td>19.993238</td>\n",
       "    </tr>\n",
       "    <tr>\n",
       "      <th>2</th>\n",
       "      <td>10.072873</td>\n",
       "      <td>29.445746</td>\n",
       "      <td>19.973641</td>\n",
       "    </tr>\n",
       "    <tr>\n",
       "      <th>3</th>\n",
       "      <td>9.954496</td>\n",
       "      <td>29.208992</td>\n",
       "      <td>19.710221</td>\n",
       "    </tr>\n",
       "    <tr>\n",
       "      <th>4</th>\n",
       "      <td>9.994093</td>\n",
       "      <td>29.288185</td>\n",
       "      <td>19.797988</td>\n",
       "    </tr>\n",
       "    <tr>\n",
       "      <th>...</th>\n",
       "      <td>...</td>\n",
       "      <td>...</td>\n",
       "      <td>...</td>\n",
       "    </tr>\n",
       "    <tr>\n",
       "      <th>995</th>\n",
       "      <td>10.034021</td>\n",
       "      <td>29.368042</td>\n",
       "      <td>19.886842</td>\n",
       "    </tr>\n",
       "    <tr>\n",
       "      <th>996</th>\n",
       "      <td>10.068130</td>\n",
       "      <td>29.436260</td>\n",
       "      <td>19.963027</td>\n",
       "    </tr>\n",
       "    <tr>\n",
       "      <th>997</th>\n",
       "      <td>9.969032</td>\n",
       "      <td>29.238063</td>\n",
       "      <td>19.742399</td>\n",
       "    </tr>\n",
       "    <tr>\n",
       "      <th>998</th>\n",
       "      <td>9.939579</td>\n",
       "      <td>29.179159</td>\n",
       "      <td>19.677249</td>\n",
       "    </tr>\n",
       "    <tr>\n",
       "      <th>999</th>\n",
       "      <td>9.865479</td>\n",
       "      <td>29.030957</td>\n",
       "      <td>19.514185</td>\n",
       "    </tr>\n",
       "  </tbody>\n",
       "</table>\n",
       "<p>1000 rows × 3 columns</p>\n",
       "</div>"
      ],
      "text/plain": [
       "     Screen Size     Weight  Brightness\n",
       "0      10.006692  29.313384   19.825988\n",
       "1      10.081624  29.463248   19.993238\n",
       "2      10.072873  29.445746   19.973641\n",
       "3       9.954496  29.208992   19.710221\n",
       "4       9.994093  29.288185   19.797988\n",
       "..           ...        ...         ...\n",
       "995    10.034021  29.368042   19.886842\n",
       "996    10.068130  29.436260   19.963027\n",
       "997     9.969032  29.238063   19.742399\n",
       "998     9.939579  29.179159   19.677249\n",
       "999     9.865479  29.030957   19.514185\n",
       "\n",
       "[1000 rows x 3 columns]"
      ]
     },
     "execution_count": 2,
     "metadata": {},
     "output_type": "execute_result"
    }
   ],
   "source": [
    "data = pd.read_csv(\"data.csv\")\n",
    "data"
   ]
  },
  {
   "cell_type": "markdown",
   "metadata": {},
   "source": [
    "## Kiểm tra mỗi nhóm có thuộc phân phối chuẩn chưa"
   ]
  },
  {
   "cell_type": "code",
   "execution_count": 4,
   "metadata": {},
   "outputs": [
    {
     "data": {
      "image/png": "[encoded data removed]",
      "text/plain": [
       "<Figure size 432x288 with 1 Axes>"
      ]
     },
     "metadata": {
      "needs_background": "light"
     },
     "output_type": "display_data"
    }
   ],
   "source": [
    "# Sử dụng histogram\n",
    "import matplotlib.pyplot as plt\n",
    "from scipy import stats\n",
    "data1 = data[[\"Screen Size\"]]\n",
    "mean = np.mean(data1)\n",
    "# ddof=1 :: hiệu chỉnh\n",
    "std = np.std(data1, ddof=1)\n",
    "domain = np.linspace(np.min(data1), np.max(data1))\n",
    "plt.plot(domain, stats.norm.pdf(domain, mean, std))\n",
    "#density=True :: chuẩn hóa dữ liệu về normal\n",
    "plt.hist(data1, edgecolor='green', density=True)\n",
    "plt.show()"
   ]
  },
  {
   "cell_type": "markdown",
   "metadata": {},
   "source": [
    "### Sử dụng Shapiro-Wilk test \n",
    "\n",
    "Phát biểu giả thiết:\n",
    "\n",
    "$H_0$: Phân phối của feature là chuẩn\n",
    "\n",
    "$H_1$: Phân phối của feature là không chuẩn"
   ]
  },
  {
   "cell_type": "code",
   "execution_count": 5,
   "metadata": {},
   "outputs": [
    {
     "name": "stdout",
     "output_type": "stream",
     "text": [
      "stat=0.999, p=0.731\n",
      "Không thể bác bỏ giả thiết H0: Phân phối của dữ liệu là chuẩn\n"
     ]
    }
   ],
   "source": [
    "# Sử dụng Shapiro-Wilk test \n",
    "from scipy.stats import shapiro\n",
    "stat1, p1 = shapiro(data1)\n",
    "print('stat=%.3f, p=%.3f' % (stat1, p1))\n",
    "if p1 > 0.05:\n",
    "    print('Không thể bác bỏ giả thiết H0: Phân phối của dữ liệu là chuẩn')\n",
    "else:\n",
    "    print('Dữ liệu không tuân theo luật phân phối chuẩn')"
   ]
  },
  {
   "cell_type": "markdown",
   "metadata": {},
   "source": [
    "## Sử dụng kiểm định D’Agostino’s K^2"
   ]
  },
  {
   "cell_type": "code",
   "execution_count": 6,
   "metadata": {},
   "outputs": [
    {
     "name": "stdout",
     "output_type": "stream",
     "text": [
      "stat=0.112, p=0.946\n",
      "Không thể bác bỏ giả thiết H0: Phân phối của dữ liệu là chuẩn\n"
     ]
    }
   ],
   "source": [
    "# Example of the D'Agostino's K^2 Normality Test\n",
    "from scipy.stats import normaltest\n",
    "stat2, p2 = normaltest(data[[\"Weight\"]])\n",
    "print('stat=%.3f, p=%.3f' % (stat2, p2))\n",
    "if p2 > 0.05:\n",
    "    print('Không thể bác bỏ giả thiết H0: Phân phối của dữ liệu là chuẩn')\n",
    "else:\n",
    "    print('Dữ liệu không tuân theo luật phân phối chuẩn')"
   ]
  },
  {
   "cell_type": "code",
   "execution_count": 8,
   "metadata": {},
   "outputs": [
    {
     "name": "stdout",
     "output_type": "stream",
     "text": [
      "stat=0.261, p=0.878\n",
      "Không thể bác bỏ giả thiết H0: Phân phối của dữ liệu là chuẩn\n"
     ]
    }
   ],
   "source": [
    "# Example of the D'Agostino's K^2 Normality Test\n",
    "from scipy.stats import normaltest\n",
    "stat3, p3 = normaltest(data[[\"Brightness\"]])\n",
    "print('stat=%.3f, p=%.3f' % (stat3, p3))\n",
    "if p3 > 0.05:\n",
    "    print('Không thể bác bỏ giả thiết H0: Phân phối của dữ liệu là chuẩn')\n",
    "else:\n",
    "    print('Dữ liệu không tuân theo luật phân phối chuẩn')"
   ]
  },
  {
   "cell_type": "markdown",
   "metadata": {},
   "source": [
    "__Ngoài ra còn có các kiểm định để kiểm tra phân phối chuẩn__\n",
    "- Kiểm định Anderson-Darling\n",
    "- Kolmogorov Smirnov test\n",
    "- Lilliefors test"
   ]
  },
  {
   "cell_type": "markdown",
   "metadata": {},
   "source": [
    "## Kiểm định tính thuần nhất phương sai (homogeneity of variance)"
   ]
  },
  {
   "cell_type": "markdown",
   "metadata": {},
   "source": [
    "## Bartlett’s Test\n",
    "\n",
    "Phát biểu các giả thiết:\n",
    "\n",
    "\n",
    "$H_0$: Các feature đều có phương sai đồng nhất \n",
    "\n",
    "$H_1$: Có ít nhất 2 feature có phương sai khác nhau (lớn)\n",
    "\n",
    "Chú ý: Nếu p < 0.05 = $\\alpha$ thì loại giả thiết $H_0$. Tức là các feature không đồng nhất về phương sai."
   ]
  },
  {
   "cell_type": "code",
   "execution_count": 9,
   "metadata": {},
   "outputs": [
    {
     "name": "stdout",
     "output_type": "stream",
     "text": [
      "609.1564291909685 5.2888602698504484e-133\n",
      "Các feature không đồng nhất về phương sai\n"
     ]
    }
   ],
   "source": [
    "from scipy.stats import bartlett\n",
    "stat_bartlett, p_bartlett = bartlett(data[\"Screen Size\"], data[\"Weight\"], data[\"Brightness\"])\n",
    "print(stat_bartlett, p_bartlett)\n",
    "if p_bartlett > 0.05:\n",
    "    print('Không thể bác bỏ giả thiết H0: Các feature đồng nhất về phương sai')\n",
    "else:\n",
    "    print('Các feature không đồng nhất về phương sai')"
   ]
  },
  {
   "cell_type": "code",
   "execution_count": 10,
   "metadata": {},
   "outputs": [
    {
     "name": "stdout",
     "output_type": "stream",
     "text": [
      "2.0437017282021978e-94\n",
      "Các feature không đồng nhất về phương sai\n"
     ]
    }
   ],
   "source": [
    "from scipy.stats import levene\n",
    "stat_levene, p_levene = levene(data[\"Screen Size\"], data[\"Weight\"], data[\"Brightness\"])\n",
    "print(p_levene)\n",
    "if p_levene > 0.05:\n",
    "    print('Không thể bác bỏ giả thiết H0: Các feature đồng nhất về phương sai')\n",
    "else:\n",
    "    print('Các feature không đồng nhất về phương sai')"
   ]
  },
  {
   "cell_type": "code",
   "execution_count": 11,
   "metadata": {},
   "outputs": [
    {
     "data": {
      "text/plain": [
       "(Screen Size    0.002382\n",
       " dtype: float64,\n",
       " Weight    0.009529\n",
       " dtype: float64,\n",
       " Brightness    0.011764\n",
       " dtype: float64)"
      ]
     },
     "execution_count": 11,
     "metadata": {},
     "output_type": "execute_result"
    }
   ],
   "source": [
    "a, b, c = [np.var(x, ddof=1) for x in [data[[\"Screen Size\"]], data[[\"Weight\"]], data[[\"Brightness\"]]]]\n",
    "a, b, c"
   ]
  },
  {
   "cell_type": "markdown",
   "metadata": {},
   "source": [
    "Phương sai của 3 nhóm dữ liệu:\n",
    "\n",
    "||Screen Size|Weight|Brightness|\n",
    "|---|---|---|---|\n",
    "|Variance|0.002382|0.0095|0.011764|\n",
    "\n",
    "$\\Rightarrow$ Nhận thấy rằng Var của nhóm Brightness lớn hơn nhiều so 2 nhóm còn lại \n",
    "\n",
    "$\\Rightarrow$ Không thể thực hiện kiểm đinh ANOVA"
   ]
  },
  {
   "cell_type": "code",
   "execution_count": 12,
   "metadata": {},
   "outputs": [
    {
     "name": "stdout",
     "output_type": "stream",
     "text": [
      "*** No CODEPAGE record, no encoding_override: will use 'ascii'\n"
     ]
    },
    {
     "data": {
      "text/html": [
       "<div>\n",
       "<style scoped>\n",
       "    .dataframe tbody tr th:only-of-type {\n",
       "        vertical-align: middle;\n",
       "    }\n",
       "\n",
       "    .dataframe tbody tr th {\n",
       "        vertical-align: top;\n",
       "    }\n",
       "\n",
       "    .dataframe thead th {\n",
       "        text-align: right;\n",
       "    }\n",
       "</style>\n",
       "<table border=\"1\" class=\"dataframe\">\n",
       "  <thead>\n",
       "    <tr style=\"text-align: right;\">\n",
       "      <th></th>\n",
       "      <th>X1</th>\n",
       "      <th>X2</th>\n",
       "      <th>X3</th>\n",
       "      <th>X4</th>\n",
       "      <th>X5</th>\n",
       "    </tr>\n",
       "  </thead>\n",
       "  <tbody>\n",
       "    <tr>\n",
       "      <th>0</th>\n",
       "      <td>2569</td>\n",
       "      <td>2074</td>\n",
       "      <td>2505</td>\n",
       "      <td>2838</td>\n",
       "      <td>1532</td>\n",
       "    </tr>\n",
       "    <tr>\n",
       "      <th>1</th>\n",
       "      <td>2928</td>\n",
       "      <td>2885</td>\n",
       "      <td>2315</td>\n",
       "      <td>2351</td>\n",
       "      <td>2552</td>\n",
       "    </tr>\n",
       "    <tr>\n",
       "      <th>2</th>\n",
       "      <td>2865</td>\n",
       "      <td>3378</td>\n",
       "      <td>2667</td>\n",
       "      <td>3001</td>\n",
       "      <td>3083</td>\n",
       "    </tr>\n",
       "    <tr>\n",
       "      <th>3</th>\n",
       "      <td>3844</td>\n",
       "      <td>3906</td>\n",
       "      <td>2390</td>\n",
       "      <td>2439</td>\n",
       "      <td>2330</td>\n",
       "    </tr>\n",
       "    <tr>\n",
       "      <th>4</th>\n",
       "      <td>3027</td>\n",
       "      <td>2782</td>\n",
       "      <td>3021</td>\n",
       "      <td>2199</td>\n",
       "      <td>2079</td>\n",
       "    </tr>\n",
       "    <tr>\n",
       "      <th>5</th>\n",
       "      <td>2336</td>\n",
       "      <td>3018</td>\n",
       "      <td>3085</td>\n",
       "      <td>3318</td>\n",
       "      <td>3366</td>\n",
       "    </tr>\n",
       "    <tr>\n",
       "      <th>6</th>\n",
       "      <td>3211</td>\n",
       "      <td>3383</td>\n",
       "      <td>3308</td>\n",
       "      <td>3601</td>\n",
       "      <td>2416</td>\n",
       "    </tr>\n",
       "    <tr>\n",
       "      <th>7</th>\n",
       "      <td>3037</td>\n",
       "      <td>3447</td>\n",
       "      <td>3231</td>\n",
       "      <td>3291</td>\n",
       "      <td>3100</td>\n",
       "    </tr>\n",
       "  </tbody>\n",
       "</table>\n",
       "</div>"
      ],
      "text/plain": [
       "     X1    X2    X3    X4    X5\n",
       "0  2569  2074  2505  2838  1532\n",
       "1  2928  2885  2315  2351  2552\n",
       "2  2865  3378  2667  3001  3083\n",
       "3  3844  3906  2390  2439  2330\n",
       "4  3027  2782  3021  2199  2079\n",
       "5  2336  3018  3085  3318  3366\n",
       "6  3211  3383  3308  3601  2416\n",
       "7  3037  3447  3231  3291  3100"
      ]
     },
     "execution_count": 12,
     "metadata": {},
     "output_type": "execute_result"
    }
   ],
   "source": [
    "data1 = pd.read_excel(\"owan02.xls\")\n",
    "data1"
   ]
  },
  {
   "cell_type": "markdown",
   "metadata": {},
   "source": [
    "### Kiểm định phân phối chuẩn \n",
    "\n",
    "$H_0$: Các feature tuân theo phân phối chuẩn \n",
    "\n",
    "$H_\\alpha$: Các feature không tuân theo phân phối chuẩn"
   ]
  },
  {
   "cell_type": "code",
   "execution_count": 13,
   "metadata": {},
   "outputs": [],
   "source": [
    "X1 = data1[\"X1\"]\n",
    "X2 = data1[\"X2\"]\n",
    "X3 = data1[\"X3\"]\n",
    "X4 = data1[\"X4\"]\n",
    "X5 = data1[\"X5\"]"
   ]
  },
  {
   "cell_type": "code",
   "execution_count": 14,
   "metadata": {},
   "outputs": [
    {
     "name": "stdout",
     "output_type": "stream",
     "text": [
      "stat=0.943, p=0.645\n",
      "Không thể bác bỏ giả thiết H0: Phân phối của dữ liệu là chuẩn\n"
     ]
    }
   ],
   "source": [
    "# Sử dụng Shapiro-Wilk test kiểm định X1\n",
    "stat_X1, p_X1 = shapiro(X1)\n",
    "print('stat=%.3f, p=%.3f' % (stat_X1, p_X1))\n",
    "if p_X1 > 0.05:\n",
    "    print('Không thể bác bỏ giả thiết H0: Phân phối của dữ liệu là chuẩn')\n",
    "else:\n",
    "    print('Dữ liệu không tuân theo luật phân phối chuẩn')"
   ]
  },
  {
   "cell_type": "code",
   "execution_count": 15,
   "metadata": {},
   "outputs": [
    {
     "name": "stdout",
     "output_type": "stream",
     "text": [
      "stat=0.954, p=0.747\n",
      "Không thể bác bỏ giả thiết H0: Phân phối của dữ liệu là chuẩn\n"
     ]
    }
   ],
   "source": [
    "# X2\n",
    "stat_X2, p_X2 = shapiro(X2)\n",
    "print('stat=%.3f, p=%.3f' % (stat_X2, p_X2))\n",
    "if p_X2 > 0.05:\n",
    "    print('Không thể bác bỏ giả thiết H0: Phân phối của dữ liệu là chuẩn')\n",
    "else:\n",
    "    print('Dữ liệu không tuân theo luật phân phối chuẩn')"
   ]
  },
  {
   "cell_type": "code",
   "execution_count": 16,
   "metadata": {},
   "outputs": [
    {
     "name": "stdout",
     "output_type": "stream",
     "text": [
      "stat=0.905, p=0.317\n",
      "Không thể bác bỏ giả thiết H0: Phân phối của dữ liệu là chuẩn\n"
     ]
    }
   ],
   "source": [
    "# X3\n",
    "stat_X3, p_X3 = shapiro(X3)\n",
    "print('stat=%.3f, p=%.3f' % (stat_X3, p_X3))\n",
    "if p_X3 > 0.05:\n",
    "    print('Không thể bác bỏ giả thiết H0: Phân phối của dữ liệu là chuẩn')\n",
    "else:\n",
    "    print('Dữ liệu không tuân theo luật phân phối chuẩn')"
   ]
  },
  {
   "cell_type": "code",
   "execution_count": 17,
   "metadata": {},
   "outputs": [
    {
     "name": "stdout",
     "output_type": "stream",
     "text": [
      "stat=0.939, p=0.599\n",
      "Không thể bác bỏ giả thiết H0: Phân phối của dữ liệu là chuẩn\n"
     ]
    }
   ],
   "source": [
    "# X4\n",
    "stat_X4, p_X4 = shapiro(X4)\n",
    "print('stat=%.3f, p=%.3f' % (stat_X4, p_X4))\n",
    "if p_X4 > 0.05:\n",
    "    print('Không thể bác bỏ giả thiết H0: Phân phối của dữ liệu là chuẩn')\n",
    "else:\n",
    "    print('Dữ liệu không tuân theo luật phân phối chuẩn')"
   ]
  },
  {
   "cell_type": "code",
   "execution_count": 18,
   "metadata": {},
   "outputs": [
    {
     "name": "stdout",
     "output_type": "stream",
     "text": [
      "stat=0.959, p=0.803\n",
      "Không thể bác bỏ giả thiết H0: Phân phối của dữ liệu là chuẩn\n"
     ]
    }
   ],
   "source": [
    "# X5\n",
    "stat_X5, p_X5 = shapiro(X5)\n",
    "print('stat=%.3f, p=%.3f' % (stat_X5, p_X5))\n",
    "if p_X5 > 0.05:\n",
    "    print('Không thể bác bỏ giả thiết H0: Phân phối của dữ liệu là chuẩn')\n",
    "else:\n",
    "    print('Dữ liệu không tuân theo luật phân phối chuẩn')"
   ]
  },
  {
   "cell_type": "markdown",
   "metadata": {},
   "source": [
    "### Kiểm định tính đồng nhất các phương sai\n",
    "\n",
    "$H_0$: Các feature có phương sai đồng nhất \n",
    "\n",
    "$H_\\alpha$: Các feature không đồng nhất phương sai"
   ]
  },
  {
   "cell_type": "code",
   "execution_count": 19,
   "metadata": {},
   "outputs": [
    {
     "name": "stdout",
     "output_type": "stream",
     "text": [
      "1.505379741017298 0.825688088344803\n",
      "Không thể bác bỏ giả thiết H0: Các feature đồng nhất về phương sai\n"
     ]
    }
   ],
   "source": [
    "# Sử dụng Bartlett test\n",
    "\n",
    "stat_bartlett, p_bartlett = bartlett(X1, X2, X3, X4, X5)\n",
    "print(stat_bartlett, p_bartlett)\n",
    "if p_bartlett > 0.05:\n",
    "    print('Không thể bác bỏ giả thiết H0: Các feature đồng nhất về phương sai')\n",
    "else:\n",
    "    print('Các feature không đồng nhất về phương sai')"
   ]
  },
  {
   "cell_type": "markdown",
   "metadata": {},
   "source": [
    "Tính trung bình các nhóm:\n",
    "\n",
    "$\\overline{\\rm X_1} = \\frac{1}{n}\\sum_{}{}X_{1i} = \\frac{1}{8}\\sum_{}{}X_{1i}$  \n",
    "\n",
    "$\\overline{\\rm X_2} = \\frac{1}{n}\\sum_{}{}X_{2i} = \\frac{1}{8}\\sum_{}{}X_{2i}$\n",
    "\n",
    "$\\overline{\\rm X_3} = \\frac{1}{n}\\sum_{}{}X_{3i} = \\frac{1}{8}\\sum_{}{}X_{3i}$\n",
    "\n",
    "$\\overline{\\rm X_4} = \\frac{1}{n}\\sum_{}{}X_{4i} = \\frac{1}{8}\\sum_{}{}X_{4i}$\n",
    "\n",
    "$\\overline{\\rm X_5} = \\frac{1}{n}\\sum_{}{}X_{5i} = \\frac{1}{8}\\sum_{}{}X_{5i}$\n",
    "\n",
    "$\\overline{\\rm X} = \\frac{\\sum_{}{}X_{m}}{k} = \\frac{\\overline{\\rm X_1}+\\overline{\\rm X_2}+\\overline{\\rm X_3}+\\overline{\\rm X_4}+\\overline{\\rm X_5}}{5}$\n",
    "\n",
    "Với:\n",
    "- n: số lượng cá thể trong mỗi nhóm (= 8)\n",
    "- k: số lượng nhóm trong quần thể quan sát (= 5)"
   ]
  },
  {
   "cell_type": "code",
   "execution_count": 20,
   "metadata": {},
   "outputs": [
    {
     "data": {
      "text/plain": [
       "(2977.125, 3109.125, 2815.25, 2879.75, 2557.25)"
      ]
     },
     "execution_count": 20,
     "metadata": {},
     "output_type": "execute_result"
    }
   ],
   "source": [
    "# Tính trung bình các nhóm\n",
    "mean_x1 = X1.mean()\n",
    "mean_x2 = X2.mean()\n",
    "mean_x3 = X3.mean()\n",
    "mean_x4 = X4.mean()\n",
    "mean_x5 = X5.mean()\n",
    "mean_x1, mean_x2, mean_x3, mean_x4, mean_x5 "
   ]
  },
  {
   "cell_type": "code",
   "execution_count": 21,
   "metadata": {},
   "outputs": [
    {
     "data": {
      "text/plain": [
       "2867.7"
      ]
     },
     "execution_count": 21,
     "metadata": {},
     "output_type": "execute_result"
    }
   ],
   "source": [
    "# Trung bình quần thể\n",
    "mean_total = (mean_x1+mean_x2+mean_x3+mean_x4+mean_x5)/5\n",
    "mean_total"
   ]
  },
  {
   "cell_type": "markdown",
   "metadata": {},
   "source": [
    "Compute the ‘between-group’ sum of squared differences ($SS_B$)\n",
    "\n",
    "- $SS_B = n(\\overline{\\rm X} - \\overline{\\rm X_1})^2 + n(\\overline{\\rm X} - \\overline{\\rm X_2})^2 + n(\\overline{\\rm X} - \\overline{\\rm X_3})^2 + n(\\overline{\\rm X} - \\overline{\\rm X_4})^2 + n(\\overline{\\rm X} - \\overline{\\rm X_5})^2$\n",
    "\n",
    "Compute the between-group mean square value ($MS_B$)\n",
    "- $MS_B = \\frac{SS_B}{d_f}$\n",
    "- $d_f$: bậc tự do = (k -1 = 4)\n",
    "\n",
    "Calculate the “within-group” sum of squares ($SS_W$)\n",
    "- $SS_W = \\displaystyle \\sum_{i}^{}\\sum_{j}^{}(\\overline{\\rm X_{ij}} - \\overline{\\rm X_{i}})$\n",
    "\n",
    "Compute the within-group mean square value ($MS_W$)\n",
    "- $MS_W = \\frac{SS_W}{d_f}$\n",
    "- $d_f = k(n-1) = 35$\n",
    "\n",
    "Compute the F-score:\n",
    "- $F = \\frac{MS_B}{MS_W}$"
   ]
  },
  {
   "cell_type": "code",
   "execution_count": 25,
   "metadata": {},
   "outputs": [
    {
     "name": "stdout",
     "output_type": "stream",
     "text": [
      "Between-groups Sum of Squared Differences: 1356282.15\n",
      "--------------------------------------------------\n",
      "Between-group Mean Square Value: 339070.5375\n",
      "--------------------------------------------------\n"
     ]
    }
   ],
   "source": [
    "n = 8\n",
    "k = 5\n",
    "SSb = n*((mean_total - mean_x1)**2 + (mean_total - mean_x2)**2 + (mean_total - mean_x3)**2\n",
    "        + (mean_total - mean_x4)**2 + (mean_total - mean_x5)**2)\n",
    "\n",
    "print('Between-groups Sum of Squared Differences: {}'.format(SSb))\n",
    "print(\"-\"*50)\n",
    "\n",
    "\n",
    "MSb = SSb/(k-1)\n",
    "print('Between-group Mean Square Value: {}'.format(MSb))\n",
    "print(\"-\"*50)"
   ]
  },
  {
   "cell_type": "code",
   "execution_count": 42,
   "metadata": {},
   "outputs": [
    {
     "name": "stdout",
     "output_type": "stream",
     "text": [
      "Within-group sum of squares: 9120642.25\n",
      "--------------------------------------------------\n",
      "Within-group mean square value: 260589.7785714286\n",
      "--------------------------------------------------\n",
      "F value: 1.3011659143302106\n"
     ]
    }
   ],
   "source": [
    "# Tính sai số mỗi nhóm \n",
    "eer_x1 = X1-mean_x1\n",
    "eer_x2 = X2-mean_x2\n",
    "eer_x3 = X3-mean_x3\n",
    "eer_x4 = X4-mean_x4\n",
    "eer_x5 = X4-mean_x5\n",
    "\n",
    "def sum_eer_square(a):\n",
    "    result1 = []\n",
    "    result2 = 0\n",
    "    for x in a:\n",
    "        result1.append(x**2)\n",
    "    for x in result1:\n",
    "        result2 = result2 + x\n",
    "    return result2\n",
    "\n",
    "SSw = (sum_eer_square(eer_x1) + sum_eer_square(eer_x2) + sum_eer_square(eer_x3) \n",
    "       + sum_eer_square(eer_x4) + sum_eer_square(eer_x5))\n",
    "\n",
    "MSw = SSw/(k*(n-1))\n",
    "print(\"Within-group sum of squares: {}\".format(SSw))\n",
    "print(\"-\"*50)\n",
    "print(\"Within-group mean square value: {}\".format(MSw))\n",
    "print(\"-\"*50)\n",
    "print(\"F value: {}\".format(MSb/MSw))"
   ]
  },
  {
   "cell_type": "markdown",
   "metadata": {},
   "source": [
    "## Kiểm tra lại bằng module Python"
   ]
  },
  {
   "cell_type": "code",
   "execution_count": 24,
   "metadata": {},
   "outputs": [
    {
     "data": {
      "text/plain": [
       "F_onewayResult(statistic=1.3142198672637213, pvalue=0.28382583646160114)"
      ]
     },
     "execution_count": 24,
     "metadata": {},
     "output_type": "execute_result"
    }
   ],
   "source": [
    "# Kiểm tra lại bằng module Scipy\n",
    "import scipy.stats as stats\n",
    "stats.f_oneway(X1, X2, X3, X4, X5)"
   ]
  },
  {
   "cell_type": "code",
   "execution_count": 30,
   "metadata": {},
   "outputs": [
    {
     "name": "stdout",
     "output_type": "stream",
     "text": [
      "*** No CODEPAGE record, no encoding_override: will use 'ascii'\n"
     ]
    },
    {
     "data": {
      "text/html": [
       "<div>\n",
       "<style scoped>\n",
       "    .dataframe tbody tr th:only-of-type {\n",
       "        vertical-align: middle;\n",
       "    }\n",
       "\n",
       "    .dataframe tbody tr th {\n",
       "        vertical-align: top;\n",
       "    }\n",
       "\n",
       "    .dataframe thead th {\n",
       "        text-align: right;\n",
       "    }\n",
       "</style>\n",
       "<table border=\"1\" class=\"dataframe\">\n",
       "  <thead>\n",
       "    <tr style=\"text-align: right;\">\n",
       "      <th></th>\n",
       "      <th>X1</th>\n",
       "      <th>X2</th>\n",
       "      <th>X3</th>\n",
       "      <th>X4</th>\n",
       "      <th>X5</th>\n",
       "    </tr>\n",
       "  </thead>\n",
       "  <tbody>\n",
       "    <tr>\n",
       "      <th>0</th>\n",
       "      <td>2569</td>\n",
       "      <td>2074</td>\n",
       "      <td>2505</td>\n",
       "      <td>2838</td>\n",
       "      <td>1532</td>\n",
       "    </tr>\n",
       "    <tr>\n",
       "      <th>1</th>\n",
       "      <td>2928</td>\n",
       "      <td>2885</td>\n",
       "      <td>2315</td>\n",
       "      <td>2351</td>\n",
       "      <td>2552</td>\n",
       "    </tr>\n",
       "    <tr>\n",
       "      <th>2</th>\n",
       "      <td>2865</td>\n",
       "      <td>3378</td>\n",
       "      <td>2667</td>\n",
       "      <td>3001</td>\n",
       "      <td>3083</td>\n",
       "    </tr>\n",
       "    <tr>\n",
       "      <th>3</th>\n",
       "      <td>3844</td>\n",
       "      <td>3906</td>\n",
       "      <td>2390</td>\n",
       "      <td>2439</td>\n",
       "      <td>2330</td>\n",
       "    </tr>\n",
       "    <tr>\n",
       "      <th>4</th>\n",
       "      <td>3027</td>\n",
       "      <td>2782</td>\n",
       "      <td>3021</td>\n",
       "      <td>2199</td>\n",
       "      <td>2079</td>\n",
       "    </tr>\n",
       "    <tr>\n",
       "      <th>5</th>\n",
       "      <td>2336</td>\n",
       "      <td>3018</td>\n",
       "      <td>3085</td>\n",
       "      <td>3318</td>\n",
       "      <td>3366</td>\n",
       "    </tr>\n",
       "    <tr>\n",
       "      <th>6</th>\n",
       "      <td>3211</td>\n",
       "      <td>3383</td>\n",
       "      <td>3308</td>\n",
       "      <td>3601</td>\n",
       "      <td>2416</td>\n",
       "    </tr>\n",
       "    <tr>\n",
       "      <th>7</th>\n",
       "      <td>3037</td>\n",
       "      <td>3447</td>\n",
       "      <td>3231</td>\n",
       "      <td>3291</td>\n",
       "      <td>3100</td>\n",
       "    </tr>\n",
       "  </tbody>\n",
       "</table>\n",
       "</div>"
      ],
      "text/plain": [
       "     X1    X2    X3    X4    X5\n",
       "0  2569  2074  2505  2838  1532\n",
       "1  2928  2885  2315  2351  2552\n",
       "2  2865  3378  2667  3001  3083\n",
       "3  3844  3906  2390  2439  2330\n",
       "4  3027  2782  3021  2199  2079\n",
       "5  2336  3018  3085  3318  3366\n",
       "6  3211  3383  3308  3601  2416\n",
       "7  3037  3447  3231  3291  3100"
      ]
     },
     "execution_count": 30,
     "metadata": {},
     "output_type": "execute_result"
    }
   ],
   "source": [
    "import pandas as pd\n",
    "# load data file\n",
    "df = pd.read_excel(\"owan02.xls\")\n",
    "df"
   ]
  },
  {
   "cell_type": "code",
   "execution_count": 32,
   "metadata": {},
   "outputs": [
    {
     "data": {
      "text/html": [
       "<div>\n",
       "<style scoped>\n",
       "    .dataframe tbody tr th:only-of-type {\n",
       "        vertical-align: middle;\n",
       "    }\n",
       "\n",
       "    .dataframe tbody tr th {\n",
       "        vertical-align: top;\n",
       "    }\n",
       "\n",
       "    .dataframe thead th {\n",
       "        text-align: right;\n",
       "    }\n",
       "</style>\n",
       "<table border=\"1\" class=\"dataframe\">\n",
       "  <thead>\n",
       "    <tr style=\"text-align: right;\">\n",
       "      <th></th>\n",
       "      <th>index</th>\n",
       "      <th>treatments</th>\n",
       "      <th>value</th>\n",
       "    </tr>\n",
       "  </thead>\n",
       "  <tbody>\n",
       "    <tr>\n",
       "      <th>0</th>\n",
       "      <td>0</td>\n",
       "      <td>X1</td>\n",
       "      <td>2569</td>\n",
       "    </tr>\n",
       "    <tr>\n",
       "      <th>1</th>\n",
       "      <td>1</td>\n",
       "      <td>X1</td>\n",
       "      <td>2928</td>\n",
       "    </tr>\n",
       "    <tr>\n",
       "      <th>2</th>\n",
       "      <td>2</td>\n",
       "      <td>X1</td>\n",
       "      <td>2865</td>\n",
       "    </tr>\n",
       "    <tr>\n",
       "      <th>3</th>\n",
       "      <td>3</td>\n",
       "      <td>X1</td>\n",
       "      <td>3844</td>\n",
       "    </tr>\n",
       "    <tr>\n",
       "      <th>4</th>\n",
       "      <td>4</td>\n",
       "      <td>X1</td>\n",
       "      <td>3027</td>\n",
       "    </tr>\n",
       "    <tr>\n",
       "      <th>5</th>\n",
       "      <td>5</td>\n",
       "      <td>X1</td>\n",
       "      <td>2336</td>\n",
       "    </tr>\n",
       "    <tr>\n",
       "      <th>6</th>\n",
       "      <td>6</td>\n",
       "      <td>X1</td>\n",
       "      <td>3211</td>\n",
       "    </tr>\n",
       "    <tr>\n",
       "      <th>7</th>\n",
       "      <td>7</td>\n",
       "      <td>X1</td>\n",
       "      <td>3037</td>\n",
       "    </tr>\n",
       "    <tr>\n",
       "      <th>8</th>\n",
       "      <td>0</td>\n",
       "      <td>X2</td>\n",
       "      <td>2074</td>\n",
       "    </tr>\n",
       "    <tr>\n",
       "      <th>9</th>\n",
       "      <td>1</td>\n",
       "      <td>X2</td>\n",
       "      <td>2885</td>\n",
       "    </tr>\n",
       "    <tr>\n",
       "      <th>10</th>\n",
       "      <td>2</td>\n",
       "      <td>X2</td>\n",
       "      <td>3378</td>\n",
       "    </tr>\n",
       "    <tr>\n",
       "      <th>11</th>\n",
       "      <td>3</td>\n",
       "      <td>X2</td>\n",
       "      <td>3906</td>\n",
       "    </tr>\n",
       "    <tr>\n",
       "      <th>12</th>\n",
       "      <td>4</td>\n",
       "      <td>X2</td>\n",
       "      <td>2782</td>\n",
       "    </tr>\n",
       "    <tr>\n",
       "      <th>13</th>\n",
       "      <td>5</td>\n",
       "      <td>X2</td>\n",
       "      <td>3018</td>\n",
       "    </tr>\n",
       "    <tr>\n",
       "      <th>14</th>\n",
       "      <td>6</td>\n",
       "      <td>X2</td>\n",
       "      <td>3383</td>\n",
       "    </tr>\n",
       "    <tr>\n",
       "      <th>15</th>\n",
       "      <td>7</td>\n",
       "      <td>X2</td>\n",
       "      <td>3447</td>\n",
       "    </tr>\n",
       "    <tr>\n",
       "      <th>16</th>\n",
       "      <td>0</td>\n",
       "      <td>X3</td>\n",
       "      <td>2505</td>\n",
       "    </tr>\n",
       "    <tr>\n",
       "      <th>17</th>\n",
       "      <td>1</td>\n",
       "      <td>X3</td>\n",
       "      <td>2315</td>\n",
       "    </tr>\n",
       "    <tr>\n",
       "      <th>18</th>\n",
       "      <td>2</td>\n",
       "      <td>X3</td>\n",
       "      <td>2667</td>\n",
       "    </tr>\n",
       "    <tr>\n",
       "      <th>19</th>\n",
       "      <td>3</td>\n",
       "      <td>X3</td>\n",
       "      <td>2390</td>\n",
       "    </tr>\n",
       "    <tr>\n",
       "      <th>20</th>\n",
       "      <td>4</td>\n",
       "      <td>X3</td>\n",
       "      <td>3021</td>\n",
       "    </tr>\n",
       "    <tr>\n",
       "      <th>21</th>\n",
       "      <td>5</td>\n",
       "      <td>X3</td>\n",
       "      <td>3085</td>\n",
       "    </tr>\n",
       "    <tr>\n",
       "      <th>22</th>\n",
       "      <td>6</td>\n",
       "      <td>X3</td>\n",
       "      <td>3308</td>\n",
       "    </tr>\n",
       "    <tr>\n",
       "      <th>23</th>\n",
       "      <td>7</td>\n",
       "      <td>X3</td>\n",
       "      <td>3231</td>\n",
       "    </tr>\n",
       "    <tr>\n",
       "      <th>24</th>\n",
       "      <td>0</td>\n",
       "      <td>X4</td>\n",
       "      <td>2838</td>\n",
       "    </tr>\n",
       "    <tr>\n",
       "      <th>25</th>\n",
       "      <td>1</td>\n",
       "      <td>X4</td>\n",
       "      <td>2351</td>\n",
       "    </tr>\n",
       "    <tr>\n",
       "      <th>26</th>\n",
       "      <td>2</td>\n",
       "      <td>X4</td>\n",
       "      <td>3001</td>\n",
       "    </tr>\n",
       "    <tr>\n",
       "      <th>27</th>\n",
       "      <td>3</td>\n",
       "      <td>X4</td>\n",
       "      <td>2439</td>\n",
       "    </tr>\n",
       "    <tr>\n",
       "      <th>28</th>\n",
       "      <td>4</td>\n",
       "      <td>X4</td>\n",
       "      <td>2199</td>\n",
       "    </tr>\n",
       "    <tr>\n",
       "      <th>29</th>\n",
       "      <td>5</td>\n",
       "      <td>X4</td>\n",
       "      <td>3318</td>\n",
       "    </tr>\n",
       "    <tr>\n",
       "      <th>30</th>\n",
       "      <td>6</td>\n",
       "      <td>X4</td>\n",
       "      <td>3601</td>\n",
       "    </tr>\n",
       "    <tr>\n",
       "      <th>31</th>\n",
       "      <td>7</td>\n",
       "      <td>X4</td>\n",
       "      <td>3291</td>\n",
       "    </tr>\n",
       "    <tr>\n",
       "      <th>32</th>\n",
       "      <td>0</td>\n",
       "      <td>X5</td>\n",
       "      <td>1532</td>\n",
       "    </tr>\n",
       "    <tr>\n",
       "      <th>33</th>\n",
       "      <td>1</td>\n",
       "      <td>X5</td>\n",
       "      <td>2552</td>\n",
       "    </tr>\n",
       "    <tr>\n",
       "      <th>34</th>\n",
       "      <td>2</td>\n",
       "      <td>X5</td>\n",
       "      <td>3083</td>\n",
       "    </tr>\n",
       "    <tr>\n",
       "      <th>35</th>\n",
       "      <td>3</td>\n",
       "      <td>X5</td>\n",
       "      <td>2330</td>\n",
       "    </tr>\n",
       "    <tr>\n",
       "      <th>36</th>\n",
       "      <td>4</td>\n",
       "      <td>X5</td>\n",
       "      <td>2079</td>\n",
       "    </tr>\n",
       "    <tr>\n",
       "      <th>37</th>\n",
       "      <td>5</td>\n",
       "      <td>X5</td>\n",
       "      <td>3366</td>\n",
       "    </tr>\n",
       "    <tr>\n",
       "      <th>38</th>\n",
       "      <td>6</td>\n",
       "      <td>X5</td>\n",
       "      <td>2416</td>\n",
       "    </tr>\n",
       "    <tr>\n",
       "      <th>39</th>\n",
       "      <td>7</td>\n",
       "      <td>X5</td>\n",
       "      <td>3100</td>\n",
       "    </tr>\n",
       "  </tbody>\n",
       "</table>\n",
       "</div>"
      ],
      "text/plain": [
       "    index treatments  value\n",
       "0       0         X1   2569\n",
       "1       1         X1   2928\n",
       "2       2         X1   2865\n",
       "3       3         X1   3844\n",
       "4       4         X1   3027\n",
       "5       5         X1   2336\n",
       "6       6         X1   3211\n",
       "7       7         X1   3037\n",
       "8       0         X2   2074\n",
       "9       1         X2   2885\n",
       "10      2         X2   3378\n",
       "11      3         X2   3906\n",
       "12      4         X2   2782\n",
       "13      5         X2   3018\n",
       "14      6         X2   3383\n",
       "15      7         X2   3447\n",
       "16      0         X3   2505\n",
       "17      1         X3   2315\n",
       "18      2         X3   2667\n",
       "19      3         X3   2390\n",
       "20      4         X3   3021\n",
       "21      5         X3   3085\n",
       "22      6         X3   3308\n",
       "23      7         X3   3231\n",
       "24      0         X4   2838\n",
       "25      1         X4   2351\n",
       "26      2         X4   3001\n",
       "27      3         X4   2439\n",
       "28      4         X4   2199\n",
       "29      5         X4   3318\n",
       "30      6         X4   3601\n",
       "31      7         X4   3291\n",
       "32      0         X5   1532\n",
       "33      1         X5   2552\n",
       "34      2         X5   3083\n",
       "35      3         X5   2330\n",
       "36      4         X5   2079\n",
       "37      5         X5   3366\n",
       "38      6         X5   2416\n",
       "39      7         X5   3100"
      ]
     },
     "execution_count": 32,
     "metadata": {},
     "output_type": "execute_result"
    }
   ],
   "source": [
    "# reshape the d dataframe suitable for statsmodels package \n",
    "df_melt = pd.melt(df.reset_index(), id_vars=['index'], value_vars=['X1', 'X2', 'X3', 'X4', 'X5' ])\n",
    "# replace column names\n",
    "df_melt.columns = ['index', 'treatments', 'value']\n",
    "df_melt"
   ]
  },
  {
   "cell_type": "code",
   "execution_count": 33,
   "metadata": {},
   "outputs": [
    {
     "data": {
      "text/html": [
       "<div>\n",
       "<style scoped>\n",
       "    .dataframe tbody tr th:only-of-type {\n",
       "        vertical-align: middle;\n",
       "    }\n",
       "\n",
       "    .dataframe tbody tr th {\n",
       "        vertical-align: top;\n",
       "    }\n",
       "\n",
       "    .dataframe thead th {\n",
       "        text-align: right;\n",
       "    }\n",
       "</style>\n",
       "<table border=\"1\" class=\"dataframe\">\n",
       "  <thead>\n",
       "    <tr style=\"text-align: right;\">\n",
       "      <th></th>\n",
       "      <th>sum_sq</th>\n",
       "      <th>df</th>\n",
       "      <th>F</th>\n",
       "      <th>PR(&gt;F)</th>\n",
       "    </tr>\n",
       "  </thead>\n",
       "  <tbody>\n",
       "    <tr>\n",
       "      <th>C(treatments)</th>\n",
       "      <td>1356282.15</td>\n",
       "      <td>4.0</td>\n",
       "      <td>1.31422</td>\n",
       "      <td>0.283826</td>\n",
       "    </tr>\n",
       "    <tr>\n",
       "      <th>Residual</th>\n",
       "      <td>9030048.25</td>\n",
       "      <td>35.0</td>\n",
       "      <td>NaN</td>\n",
       "      <td>NaN</td>\n",
       "    </tr>\n",
       "  </tbody>\n",
       "</table>\n",
       "</div>"
      ],
      "text/plain": [
       "                   sum_sq    df        F    PR(>F)\n",
       "C(treatments)  1356282.15   4.0  1.31422  0.283826\n",
       "Residual       9030048.25  35.0      NaN       NaN"
      ]
     },
     "execution_count": 33,
     "metadata": {},
     "output_type": "execute_result"
    }
   ],
   "source": [
    "import statsmodels.api as sm\n",
    "from statsmodels.formula.api import ols\n",
    "\n",
    "# Ordinary Least Squares (OLS) model\n",
    "model = ols('value ~ C(treatments)', data=df_melt).fit()\n",
    "anova_table = sm.stats.anova_lm(model, typ=2)\n",
    "anova_table"
   ]
  }
 ],
 "metadata": {
  "kernelspec": {
   "display_name": "Python 3",
   "language": "python",
   "name": "python3"
  },
  "language_info": {
   "codemirror_mode": {
    "name": "ipython",
    "version": 3
   },
   "file_extension": ".py",
   "mimetype": "text/x-python",
   "name": "python",
   "nbconvert_exporter": "python",
   "pygments_lexer": "ipython3",
   "version": "3.8.3"
  }
 },
 "nbformat": 4,
 "nbformat_minor": 4
}
