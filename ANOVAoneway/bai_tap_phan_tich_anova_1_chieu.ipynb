{
 "cells": [
  {
   "cell_type": "markdown",
   "metadata": {
    "id": "lOjvzodnzC2u"
   },
   "source": [
    "Hãy sử dụng các tập dữ liệu sau và tiến hành phân tích ANOVA 1 chiều\n",
    "\n",
    "- [Excavation Depth and Archaeology](https://college.cengage.com/mathematics/brase/understandable_statistics/7e/students/datasets/owan/frames/owan01.html)\n",
    "- [Apple Orchard Experiment](https://college.cengage.com/mathematics/brase/understandable_statistics/7e/students/datasets/owan/frames/owan02.html)\n",
    "- [Red Dye Number 40](https://college.cengage.com/mathematics/brase/understandable_statistics/7e/students/datasets/owan/frames/owan03.html)\n",
    "- [Business Startup Costs](https://college.cengage.com/mathematics/brase/understandable_statistics/7e/students/datasets/owan/frames/owan04.html)\n",
    "- [Weights of Football Players](https://college.cengage.com/mathematics/brase/understandable_statistics/7e/students/datasets/owan/frames/owan05.html)"
   ]
  },
  {
   "cell_type": "code",
   "execution_count": 6,
   "metadata": {
    "id": "wcSRi2v9zC22"
   },
   "outputs": [],
   "source": [
    "import numpy as np\n",
    "import pandas as pd\n",
    "from scipy import stats\n",
    "import statistics\n",
    "import matplotlib.pyplot as plt\n",
    "import seaborn as sns\n",
    "import statsmodels.api as sm\n",
    "import pylab\n",
    "from scipy.stats import bartlett\n",
    "from scipy.stats import levene"
   ]
  },
  {
   "cell_type": "code",
   "execution_count": 30,
   "metadata": {},
   "outputs": [],
   "source": [
    "class thongke():\n",
    "    def __init__(self, data):\n",
    "        self.mean = np.mean(data)\n",
    "        self.med = np.median(data)\n",
    "        self.mod = statistics.mode(data)\n",
    "        self.min = np.min(data)\n",
    "        self.max = np.max(data)\n",
    "        self.std = np.std(data)\n",
    "        self.name = data.name\n",
    "        self.data = (data - self.mean) /self.std\n",
    "        \n",
    "    def hist(self):\n",
    "        plt.figure()\n",
    "        ax = sns.distplot(self.data)\n",
    "        plt.axvline(np.mean(self.data), color=\"r\", linestyle=\"dashed\", linewidth=5)\n",
    "        _, max_ = plt.ylim()\n",
    "        plt.text(\n",
    "            self.data.mean() + self.data.mean() / 10,\n",
    "            max_ - max_ / 10,\n",
    "            \"Mean: {:.2f}\".format(self.mean),\n",
    "        )\n",
    "        plt.title(self.name)\n",
    "        plt.xlabel(\"x\")\n",
    "        plt.ylabel(\"y\")\n",
    "        plt.show();\n",
    "        \n",
    "\n",
    "    def qq(self):\n",
    "        sm.qqplot(self.data, line='45')\n",
    "        plt.show()\n",
    "\n",
    "    \n",
    "    def shapiro(self):\n",
    "        print('Kiểm định Shapori:')\n",
    "        print('Giả thiết H0: ')\n",
    "        stat, p = stats.shapiro(self.data)\n",
    "        print('stat=%.3f, p=%.3f' % (stat, p))\n",
    "        if p > 0.05:\n",
    "            print('Chưa có bằng chứng thống kê để bác bỏ giả thuyết H0. Điều này ngụ ý: Dữ liệu tuân theo phân phối chuẩn')\n",
    "        else:\n",
    "            print('Có bằng chứng thống kê để bác bỏ giả thuyết H0. Điều này ngụ ý: Dữ liệu không tuân theo luật phân phối chuẩn')\n",
    "            print('-'*10)\n",
    "            print('Do đó không thể chạy kiểm định ANOVA 1 chiều.')\n",
    "        print('-'*50)\n"
   ]
  },
  {
   "cell_type": "markdown",
   "metadata": {
    "id": "xvMf_XgOzC23"
   },
   "source": [
    "**[Excavation Depth and Archaeology](https://college.cengage.com/mathematics/brase/understandable_statistics/7e/students/datasets/owan/frames/owan01.html)**\n",
    "\n",
    "Bốn địa điểm khai quật khác nhau tại một khu vực khảo cổ ở New Mexico đã đưa ra những độ sâu sau (cm) cho những khám phá khảo cổ quan trọng.\n",
    "\n",
    "- X1 = độ sâu tại Vị trí I\n",
    "- X2 = độ sâu tại Vị trí II\n",
    "- X3 = độ sâu tại Vị trí III\n",
    "- X4 = độ sâu tại Vị trí IV"
   ]
  },
  {
   "cell_type": "code",
   "execution_count": 8,
   "metadata": {
    "scrolled": false
   },
   "outputs": [
    {
     "name": "stdout",
     "output_type": "stream",
     "text": [
      "*** No CODEPAGE record, no encoding_override: will use 'ascii'\n"
     ]
    },
    {
     "data": {
      "text/html": [
       "<div>\n",
       "<style scoped>\n",
       "    .dataframe tbody tr th:only-of-type {\n",
       "        vertical-align: middle;\n",
       "    }\n",
       "\n",
       "    .dataframe tbody tr th {\n",
       "        vertical-align: top;\n",
       "    }\n",
       "\n",
       "    .dataframe thead th {\n",
       "        text-align: right;\n",
       "    }\n",
       "</style>\n",
       "<table border=\"1\" class=\"dataframe\">\n",
       "  <thead>\n",
       "    <tr style=\"text-align: right;\">\n",
       "      <th></th>\n",
       "      <th>X1</th>\n",
       "      <th>X2</th>\n",
       "      <th>X3</th>\n",
       "      <th>X4</th>\n",
       "    </tr>\n",
       "  </thead>\n",
       "  <tbody>\n",
       "    <tr>\n",
       "      <th>0</th>\n",
       "      <td>93</td>\n",
       "      <td>85.0</td>\n",
       "      <td>100.0</td>\n",
       "      <td>96.0</td>\n",
       "    </tr>\n",
       "    <tr>\n",
       "      <th>1</th>\n",
       "      <td>120</td>\n",
       "      <td>45.0</td>\n",
       "      <td>75.0</td>\n",
       "      <td>58.0</td>\n",
       "    </tr>\n",
       "    <tr>\n",
       "      <th>2</th>\n",
       "      <td>65</td>\n",
       "      <td>80.0</td>\n",
       "      <td>65.0</td>\n",
       "      <td>95.0</td>\n",
       "    </tr>\n",
       "    <tr>\n",
       "      <th>3</th>\n",
       "      <td>105</td>\n",
       "      <td>28.0</td>\n",
       "      <td>40.0</td>\n",
       "      <td>90.0</td>\n",
       "    </tr>\n",
       "    <tr>\n",
       "      <th>4</th>\n",
       "      <td>115</td>\n",
       "      <td>75.0</td>\n",
       "      <td>73.0</td>\n",
       "      <td>65.0</td>\n",
       "    </tr>\n",
       "    <tr>\n",
       "      <th>5</th>\n",
       "      <td>82</td>\n",
       "      <td>70.0</td>\n",
       "      <td>65.0</td>\n",
       "      <td>80.0</td>\n",
       "    </tr>\n",
       "    <tr>\n",
       "      <th>6</th>\n",
       "      <td>99</td>\n",
       "      <td>65.0</td>\n",
       "      <td>50.0</td>\n",
       "      <td>85.0</td>\n",
       "    </tr>\n",
       "    <tr>\n",
       "      <th>7</th>\n",
       "      <td>87</td>\n",
       "      <td>55.0</td>\n",
       "      <td>30.0</td>\n",
       "      <td>95.0</td>\n",
       "    </tr>\n",
       "    <tr>\n",
       "      <th>8</th>\n",
       "      <td>100</td>\n",
       "      <td>50.0</td>\n",
       "      <td>45.0</td>\n",
       "      <td>82.0</td>\n",
       "    </tr>\n",
       "    <tr>\n",
       "      <th>9</th>\n",
       "      <td>90</td>\n",
       "      <td>40.0</td>\n",
       "      <td>50.0</td>\n",
       "      <td>NaN</td>\n",
       "    </tr>\n",
       "    <tr>\n",
       "      <th>10</th>\n",
       "      <td>78</td>\n",
       "      <td>NaN</td>\n",
       "      <td>45.0</td>\n",
       "      <td>NaN</td>\n",
       "    </tr>\n",
       "    <tr>\n",
       "      <th>11</th>\n",
       "      <td>95</td>\n",
       "      <td>NaN</td>\n",
       "      <td>55.0</td>\n",
       "      <td>NaN</td>\n",
       "    </tr>\n",
       "    <tr>\n",
       "      <th>12</th>\n",
       "      <td>93</td>\n",
       "      <td>NaN</td>\n",
       "      <td>NaN</td>\n",
       "      <td>NaN</td>\n",
       "    </tr>\n",
       "    <tr>\n",
       "      <th>13</th>\n",
       "      <td>88</td>\n",
       "      <td>NaN</td>\n",
       "      <td>NaN</td>\n",
       "      <td>NaN</td>\n",
       "    </tr>\n",
       "    <tr>\n",
       "      <th>14</th>\n",
       "      <td>110</td>\n",
       "      <td>NaN</td>\n",
       "      <td>NaN</td>\n",
       "      <td>NaN</td>\n",
       "    </tr>\n",
       "  </tbody>\n",
       "</table>\n",
       "</div>"
      ],
      "text/plain": [
       "     X1    X2     X3    X4\n",
       "0    93  85.0  100.0  96.0\n",
       "1   120  45.0   75.0  58.0\n",
       "2    65  80.0   65.0  95.0\n",
       "3   105  28.0   40.0  90.0\n",
       "4   115  75.0   73.0  65.0\n",
       "5    82  70.0   65.0  80.0\n",
       "6    99  65.0   50.0  85.0\n",
       "7    87  55.0   30.0  95.0\n",
       "8   100  50.0   45.0  82.0\n",
       "9    90  40.0   50.0   NaN\n",
       "10   78   NaN   45.0   NaN\n",
       "11   95   NaN   55.0   NaN\n",
       "12   93   NaN    NaN   NaN\n",
       "13   88   NaN    NaN   NaN\n",
       "14  110   NaN    NaN   NaN"
      ]
     },
     "execution_count": 8,
     "metadata": {},
     "output_type": "execute_result"
    }
   ],
   "source": [
    "# Đọc file:\n",
    "df1 = pd.read_excel('owan01.xls')\n",
    "df1\n",
    "# Vì kích thước các mẫu trong dữ liệu không bằng nhau nên không thể kiểm định ANOVA"
   ]
  },
  {
   "cell_type": "markdown",
   "metadata": {},
   "source": [
    "- [Apple Orchard Experiment](https://college.cengage.com/mathematics/brase/understandable_statistics/7e/students/datasets/owan/frames/owan02.html)\n",
    "\n",
    "Five types of root-stock were used in an apple orchard grafting experiment. The following data represent the extension growth (cm) after four years.\n",
    "- X1 = extension growth for type I\n",
    "- X2 = extension growth for type II\n",
    "- X3 = extension growth for type III\n",
    "- X4 = extension growth for type IV\n",
    "- X5 = extension growth for type V\n",
    "\n",
    "Xây dựng giả thuyết\n",
    "\n",
    "$$H_{0}: \\mu{1} = \\mu{2} =\\mu{3} =\\mu{4} =\\mu{5} $$\n",
    "\n",
    "$$H_{a}: \\text{Có ít nhất một cặp giá trị trung bình có giá trị khác nhau}$$"
   ]
  },
  {
   "cell_type": "code",
   "execution_count": 9,
   "metadata": {},
   "outputs": [
    {
     "name": "stdout",
     "output_type": "stream",
     "text": [
      "*** No CODEPAGE record, no encoding_override: will use 'ascii'\n"
     ]
    },
    {
     "data": {
      "text/html": [
       "<div>\n",
       "<style scoped>\n",
       "    .dataframe tbody tr th:only-of-type {\n",
       "        vertical-align: middle;\n",
       "    }\n",
       "\n",
       "    .dataframe tbody tr th {\n",
       "        vertical-align: top;\n",
       "    }\n",
       "\n",
       "    .dataframe thead th {\n",
       "        text-align: right;\n",
       "    }\n",
       "</style>\n",
       "<table border=\"1\" class=\"dataframe\">\n",
       "  <thead>\n",
       "    <tr style=\"text-align: right;\">\n",
       "      <th></th>\n",
       "      <th>X1</th>\n",
       "      <th>X2</th>\n",
       "      <th>X3</th>\n",
       "      <th>X4</th>\n",
       "      <th>X5</th>\n",
       "    </tr>\n",
       "  </thead>\n",
       "  <tbody>\n",
       "    <tr>\n",
       "      <th>0</th>\n",
       "      <td>2569</td>\n",
       "      <td>2074</td>\n",
       "      <td>2505</td>\n",
       "      <td>2838</td>\n",
       "      <td>1532</td>\n",
       "    </tr>\n",
       "    <tr>\n",
       "      <th>1</th>\n",
       "      <td>2928</td>\n",
       "      <td>2885</td>\n",
       "      <td>2315</td>\n",
       "      <td>2351</td>\n",
       "      <td>2552</td>\n",
       "    </tr>\n",
       "    <tr>\n",
       "      <th>2</th>\n",
       "      <td>2865</td>\n",
       "      <td>3378</td>\n",
       "      <td>2667</td>\n",
       "      <td>3001</td>\n",
       "      <td>3083</td>\n",
       "    </tr>\n",
       "    <tr>\n",
       "      <th>3</th>\n",
       "      <td>3844</td>\n",
       "      <td>3906</td>\n",
       "      <td>2390</td>\n",
       "      <td>2439</td>\n",
       "      <td>2330</td>\n",
       "    </tr>\n",
       "    <tr>\n",
       "      <th>4</th>\n",
       "      <td>3027</td>\n",
       "      <td>2782</td>\n",
       "      <td>3021</td>\n",
       "      <td>2199</td>\n",
       "      <td>2079</td>\n",
       "    </tr>\n",
       "    <tr>\n",
       "      <th>5</th>\n",
       "      <td>2336</td>\n",
       "      <td>3018</td>\n",
       "      <td>3085</td>\n",
       "      <td>3318</td>\n",
       "      <td>3366</td>\n",
       "    </tr>\n",
       "    <tr>\n",
       "      <th>6</th>\n",
       "      <td>3211</td>\n",
       "      <td>3383</td>\n",
       "      <td>3308</td>\n",
       "      <td>3601</td>\n",
       "      <td>2416</td>\n",
       "    </tr>\n",
       "    <tr>\n",
       "      <th>7</th>\n",
       "      <td>3037</td>\n",
       "      <td>3447</td>\n",
       "      <td>3231</td>\n",
       "      <td>3291</td>\n",
       "      <td>3100</td>\n",
       "    </tr>\n",
       "  </tbody>\n",
       "</table>\n",
       "</div>"
      ],
      "text/plain": [
       "     X1    X2    X3    X4    X5\n",
       "0  2569  2074  2505  2838  1532\n",
       "1  2928  2885  2315  2351  2552\n",
       "2  2865  3378  2667  3001  3083\n",
       "3  3844  3906  2390  2439  2330\n",
       "4  3027  2782  3021  2199  2079\n",
       "5  2336  3018  3085  3318  3366\n",
       "6  3211  3383  3308  3601  2416\n",
       "7  3037  3447  3231  3291  3100"
      ]
     },
     "execution_count": 9,
     "metadata": {},
     "output_type": "execute_result"
    }
   ],
   "source": [
    "# Đọc file:\n",
    "df2 = pd.read_excel('owan02.xls')\n",
    "df2"
   ]
  },
  {
   "cell_type": "code",
   "execution_count": 10,
   "metadata": {},
   "outputs": [],
   "source": [
    "#Tách thành từng series\n",
    "x1 = df2['X1'].dropna()\n",
    "x2 = df2['X2'].dropna()\n",
    "x3 = df2['X3'].dropna()\n",
    "x4 = df2['X4'].dropna()\n",
    "x5 = df2['X5'].dropna()"
   ]
  },
  {
   "cell_type": "markdown",
   "metadata": {},
   "source": [
    "**Xây dựng giả thuyết kiểm định Shapiro**\n",
    "\n",
    "$H_{0}: \\text{Dữ liệu tuân theo phân phối chuẩn.}$\n",
    "\n",
    "$H_{a}: \\text{Dữ liệu không tuân theo phân phối chuẩn.}$"
   ]
  },
  {
   "cell_type": "code",
   "execution_count": 11,
   "metadata": {
    "scrolled": true
   },
   "outputs": [
    {
     "name": "stdout",
     "output_type": "stream",
     "text": [
      "Xét X1:\n"
     ]
    },
    {
     "name": "stderr",
     "output_type": "stream",
     "text": [
      "C:\\Users\\ADMIN\\anaconda3\\lib\\site-packages\\seaborn\\distributions.py:2557: FutureWarning: `distplot` is a deprecated function and will be removed in a future version. Please adapt your code to use either `displot` (a figure-level function with similar flexibility) or `histplot` (an axes-level function for histograms).\n",
      "  warnings.warn(msg, FutureWarning)\n"
     ]
    },
    {
     "data": {
      "image/png": "[encoded data removed]",
      "text/plain": [
       "<Figure size 432x288 with 1 Axes>"
      ]
     },
     "metadata": {
      "needs_background": "light"
     },
     "output_type": "display_data"
    },
    {
     "data": {
      "image/png": "[encoded data removed]",
      "text/plain": [
       "<Figure size 432x288 with 1 Axes>"
      ]
     },
     "metadata": {
      "needs_background": "light"
     },
     "output_type": "display_data"
    },
    {
     "name": "stdout",
     "output_type": "stream",
     "text": [
      "Kiểm định Shapori:\n",
      "Giả thiết H0: \n",
      "stat=0.943, p=0.645\n",
      "Chưa có bằng chứng thống kê để bác bỏ giả thuyết H0. Điều này ngụ ý: Dữ liệu tuân theo phân phối chuẩn\n",
      "--------------------------------------------------\n",
      "Xét X2:\n"
     ]
    },
    {
     "name": "stderr",
     "output_type": "stream",
     "text": [
      "C:\\Users\\ADMIN\\anaconda3\\lib\\site-packages\\seaborn\\distributions.py:2557: FutureWarning: `distplot` is a deprecated function and will be removed in a future version. Please adapt your code to use either `displot` (a figure-level function with similar flexibility) or `histplot` (an axes-level function for histograms).\n",
      "  warnings.warn(msg, FutureWarning)\n"
     ]
    },
    {
     "data": {
      "image/png": "[encoded data removed]",
      "text/plain": [
       "<Figure size 432x288 with 1 Axes>"
      ]
     },
     "metadata": {
      "needs_background": "light"
     },
     "output_type": "display_data"
    },
    {
     "data": {
      "image/png": "[encoded data removed]",
      "text/plain": [
       "<Figure size 432x288 with 1 Axes>"
      ]
     },
     "metadata": {
      "needs_background": "light"
     },
     "output_type": "display_data"
    },
    {
     "name": "stdout",
     "output_type": "stream",
     "text": [
      "Kiểm định Shapori:\n",
      "Giả thiết H0: \n",
      "stat=0.954, p=0.747\n",
      "Chưa có bằng chứng thống kê để bác bỏ giả thuyết H0. Điều này ngụ ý: Dữ liệu tuân theo phân phối chuẩn\n",
      "--------------------------------------------------\n",
      "Xét X3:\n"
     ]
    },
    {
     "name": "stderr",
     "output_type": "stream",
     "text": [
      "C:\\Users\\ADMIN\\anaconda3\\lib\\site-packages\\seaborn\\distributions.py:2557: FutureWarning: `distplot` is a deprecated function and will be removed in a future version. Please adapt your code to use either `displot` (a figure-level function with similar flexibility) or `histplot` (an axes-level function for histograms).\n",
      "  warnings.warn(msg, FutureWarning)\n"
     ]
    },
    {
     "data": {
      "image/png": "[encoded data removed]",
      "text/plain": [
       "<Figure size 432x288 with 1 Axes>"
      ]
     },
     "metadata": {
      "needs_background": "light"
     },
     "output_type": "display_data"
    },
    {
     "data": {
      "image/png": "[encoded data removed]",
      "text/plain": [
       "<Figure size 432x288 with 1 Axes>"
      ]
     },
     "metadata": {
      "needs_background": "light"
     },
     "output_type": "display_data"
    },
    {
     "name": "stdout",
     "output_type": "stream",
     "text": [
      "Kiểm định Shapori:\n",
      "Giả thiết H0: \n",
      "stat=0.905, p=0.317\n",
      "Chưa có bằng chứng thống kê để bác bỏ giả thuyết H0. Điều này ngụ ý: Dữ liệu tuân theo phân phối chuẩn\n",
      "--------------------------------------------------\n",
      "Xét X4:\n"
     ]
    },
    {
     "name": "stderr",
     "output_type": "stream",
     "text": [
      "C:\\Users\\ADMIN\\anaconda3\\lib\\site-packages\\seaborn\\distributions.py:2557: FutureWarning: `distplot` is a deprecated function and will be removed in a future version. Please adapt your code to use either `displot` (a figure-level function with similar flexibility) or `histplot` (an axes-level function for histograms).\n",
      "  warnings.warn(msg, FutureWarning)\n"
     ]
    },
    {
     "data": {
      "image/png": "[encoded data removed]",
      "text/plain": [
       "<Figure size 432x288 with 1 Axes>"
      ]
     },
     "metadata": {
      "needs_background": "light"
     },
     "output_type": "display_data"
    },
    {
     "data": {
      "image/png": "[encoded data removed]",
      "text/plain": [
       "<Figure size 432x288 with 1 Axes>"
      ]
     },
     "metadata": {
      "needs_background": "light"
     },
     "output_type": "display_data"
    },
    {
     "name": "stdout",
     "output_type": "stream",
     "text": [
      "Kiểm định Shapori:\n",
      "Giả thiết H0: \n",
      "stat=0.939, p=0.599\n",
      "Chưa có bằng chứng thống kê để bác bỏ giả thuyết H0. Điều này ngụ ý: Dữ liệu tuân theo phân phối chuẩn\n",
      "--------------------------------------------------\n",
      "Xét X5:\n"
     ]
    },
    {
     "name": "stderr",
     "output_type": "stream",
     "text": [
      "C:\\Users\\ADMIN\\anaconda3\\lib\\site-packages\\seaborn\\distributions.py:2557: FutureWarning: `distplot` is a deprecated function and will be removed in a future version. Please adapt your code to use either `displot` (a figure-level function with similar flexibility) or `histplot` (an axes-level function for histograms).\n",
      "  warnings.warn(msg, FutureWarning)\n"
     ]
    },
    {
     "data": {
      "image/png": "[encoded data removed]",
      "text/plain": [
       "<Figure size 432x288 with 1 Axes>"
      ]
     },
     "metadata": {
      "needs_background": "light"
     },
     "output_type": "display_data"
    },
    {
     "data": {
      "image/png": "[encoded data removed]",
      "text/plain": [
       "<Figure size 432x288 with 1 Axes>"
      ]
     },
     "metadata": {
      "needs_background": "light"
     },
     "output_type": "display_data"
    },
    {
     "name": "stdout",
     "output_type": "stream",
     "text": [
      "Kiểm định Shapori:\n",
      "Giả thiết H0: \n",
      "stat=0.959, p=0.803\n",
      "Chưa có bằng chứng thống kê để bác bỏ giả thuyết H0. Điều này ngụ ý: Dữ liệu tuân theo phân phối chuẩn\n",
      "--------------------------------------------------\n"
     ]
    }
   ],
   "source": [
    "print('Xét X1:')\n",
    "X1 = thongke(x1)\n",
    "X1.hist()\n",
    "X1.qq()\n",
    "X1.shapiro()\n",
    "\n",
    "print('Xét X2:')\n",
    "X2 = thongke(x2)\n",
    "X2.hist()\n",
    "X2.qq()\n",
    "X2.shapiro()\n",
    "\n",
    "print('Xét X3:')\n",
    "X3 = thongke(x3)\n",
    "X3.hist()\n",
    "X3.qq()\n",
    "X3.shapiro()\n",
    "\n",
    "print('Xét X4:')\n",
    "X4 = thongke(x4)\n",
    "X4.hist()\n",
    "X4.qq()\n",
    "X4.shapiro()\n",
    "\n",
    "print('Xét X5:')\n",
    "X5 = thongke(x5)\n",
    "X5.hist()\n",
    "X5.qq()\n",
    "X5.shapiro()"
   ]
  },
  {
   "cell_type": "markdown",
   "metadata": {},
   "source": [
    "**Xây dựng giả thuyết kiểm định Bartlett:**\n",
    "\n",
    "$H_{0}: \\text{Phương sai các nhóm tương đồng nhau.}$\n",
    "\n",
    "$H_{a}: \\text{Phương sai các nhóm không tương đồng nhau.}$"
   ]
  },
  {
   "cell_type": "code",
   "execution_count": 16,
   "metadata": {},
   "outputs": [
    {
     "name": "stdout",
     "output_type": "stream",
     "text": [
      "Phương sai mỗi nhóm:\n",
      "                0\n",
      "X1  200690.696429\n",
      "X2  304785.839286\n",
      "X3  154295.642857\n",
      "X4  262156.214286\n",
      "X5  368078.500000\n",
      "--------------------------------------------------\n",
      "Kiểm định Bartlett:\n",
      "BartlettResult(statistic=1.505379741017298, pvalue=0.825688088344803)\n",
      "Chưa có bằng chứng thống kê để bác bỏ giả thuyết H0. Điều này ngụ ý phương sai các nhóm tương đồng nhau\n",
      "--------------------------------------------------\n"
     ]
    }
   ],
   "source": [
    "print('Phương sai mỗi nhóm:')\n",
    "a = ['X1','X2','X3','X4','X5']\n",
    "b = [np.var(x, ddof=1) for x in [x1,x2,x3,x4,x5]]\n",
    "c = pd.DataFrame(b,a)\n",
    "print(c)\n",
    "print('-'*50)\n",
    "\n",
    "# Kiểm định Bartlett - Kiểm định tính đồng nhất của các phương sai:\n",
    "print('Kiểm định Bartlett:')\n",
    "bartlett_test = bartlett(x1,x2,x3,x4,x5)\n",
    "print(bartlett_test)\n",
    "bartlettvalue,pvalue=bartlett_test\n",
    "if (bartlettvalue > 0) and (pvalue > 0.05):\n",
    "    print('Chưa có bằng chứng thống kê để bác bỏ giả thuyết H0. Điều này ngụ ý phương sai các nhóm tương đồng nhau')\n",
    "else:\n",
    "    print('Có bằng chứng thống kê để bác bỏ giả thuyết H0. Điều này ngụ ý phương sai các nhóm không tương đồng nhau')\n",
    "    print('-'*10)\n",
    "    print('Do đó không thể chạy kiểm định ANOVA 1 chiều.')\n",
    "print('-'*50)"
   ]
  },
  {
   "cell_type": "markdown",
   "metadata": {},
   "source": [
    "**Xây dựng giả thuyết kiểm định ANOVA 1 chiều:**\n",
    "\n",
    "$H_{0}: \\mu{1} = \\mu{2} =\\mu{3} =\\mu{4} =\\mu{5} $\n",
    "\n",
    "$H_{a}: \\text{Có ít nhất một cặp giá trị trung bình có giá trị khác nhau}$"
   ]
  },
  {
   "cell_type": "code",
   "execution_count": 7,
   "metadata": {},
   "outputs": [
    {
     "name": "stdout",
     "output_type": "stream",
     "text": [
      "Kiểm định ANOVA 1 chiều:\n",
      "stat=1.314, p=0.284\n",
      "Chưa có bằng chứng thống kê để bác bỏ giả thuyết H0 điều này ngụ ý: Các cặp giá trị trung bình bằng nhau\n",
      "--------------------------------------------------\n"
     ]
    }
   ],
   "source": [
    "# Kiểm định ANOVA 1 chiều:\n",
    "print('Kiểm định ANOVA 1 chiều:')\n",
    "stat, pvalue = stats.f_oneway(x1,x2,x3,x4,x5)\n",
    "print('stat=%.3f, p=%.3f' % (stat, pvalue))\n",
    "if (stat > 0) and (pvalue > 0.05):\n",
    "    print('Chưa có bằng chứng thống kê để bác bỏ giả thuyết H0 điều này ngụ ý: Các cặp giá trị trung bình bằng nhau')\n",
    "else:\n",
    "    print('Có bắng chứng thống kê bác bỏ giả thuyết H0: Có tối thiểu một cặp giá trị trung bình có giá trị khác nhau.')\n",
    "print('-'*50)"
   ]
  },
  {
   "cell_type": "code",
   "execution_count": 24,
   "metadata": {},
   "outputs": [
    {
     "name": "stdout",
     "output_type": "stream",
     "text": [
      "--------------------------------------------------\n",
      "Bảng kiểm định ANOVA 1 chiều:\n"
     ]
    },
    {
     "data": {
      "text/html": [
       "<div>\n",
       "<style scoped>\n",
       "    .dataframe tbody tr th:only-of-type {\n",
       "        vertical-align: middle;\n",
       "    }\n",
       "\n",
       "    .dataframe tbody tr th {\n",
       "        vertical-align: top;\n",
       "    }\n",
       "\n",
       "    .dataframe thead th {\n",
       "        text-align: right;\n",
       "    }\n",
       "</style>\n",
       "<table border=\"1\" class=\"dataframe\">\n",
       "  <thead>\n",
       "    <tr style=\"text-align: right;\">\n",
       "      <th></th>\n",
       "      <th>sum_sq</th>\n",
       "      <th>df</th>\n",
       "      <th>F</th>\n",
       "      <th>PR(&gt;F)</th>\n",
       "    </tr>\n",
       "  </thead>\n",
       "  <tbody>\n",
       "    <tr>\n",
       "      <th>x1</th>\n",
       "      <td>4.445576e+05</td>\n",
       "      <td>1.0</td>\n",
       "      <td>8.194722e+27</td>\n",
       "      <td>2.972825e-42</td>\n",
       "    </tr>\n",
       "    <tr>\n",
       "      <th>x2</th>\n",
       "      <td>1.407860e-25</td>\n",
       "      <td>1.0</td>\n",
       "      <td>2.595169e-03</td>\n",
       "      <td>9.625733e-01</td>\n",
       "    </tr>\n",
       "    <tr>\n",
       "      <th>x3</th>\n",
       "      <td>7.215022e-27</td>\n",
       "      <td>1.0</td>\n",
       "      <td>1.329976e-04</td>\n",
       "      <td>9.915227e-01</td>\n",
       "    </tr>\n",
       "    <tr>\n",
       "      <th>x4</th>\n",
       "      <td>3.058545e-25</td>\n",
       "      <td>1.0</td>\n",
       "      <td>5.637948e-03</td>\n",
       "      <td>9.448727e-01</td>\n",
       "    </tr>\n",
       "    <tr>\n",
       "      <th>Residual</th>\n",
       "      <td>1.627478e-22</td>\n",
       "      <td>3.0</td>\n",
       "      <td>NaN</td>\n",
       "      <td>NaN</td>\n",
       "    </tr>\n",
       "  </tbody>\n",
       "</table>\n",
       "</div>"
      ],
      "text/plain": [
       "                sum_sq   df             F        PR(>F)\n",
       "x1        4.445576e+05  1.0  8.194722e+27  2.972825e-42\n",
       "x2        1.407860e-25  1.0  2.595169e-03  9.625733e-01\n",
       "x3        7.215022e-27  1.0  1.329976e-04  9.915227e-01\n",
       "x4        3.058545e-25  1.0  5.637948e-03  9.448727e-01\n",
       "Residual  1.627478e-22  3.0           NaN           NaN"
      ]
     },
     "execution_count": 24,
     "metadata": {},
     "output_type": "execute_result"
    }
   ],
   "source": [
    "import statsmodels.api as sm\n",
    "from statsmodels.formula.api import ols\n",
    "print('-'*50)\n",
    "print('Bảng kiểm định ANOVA 1 chiều:')\n",
    "model = ols('x1 ~ x1 + x2 + x3 + x4',                 # Model formula\n",
    "            data = df2).fit()    \n",
    "anova_result = sm.stats.anova_lm(model, typ=2)\n",
    "anova_result"
   ]
  },
  {
   "cell_type": "code",
   "execution_count": 10,
   "metadata": {},
   "outputs": [
    {
     "name": "stderr",
     "output_type": "stream",
     "text": [
      "C:\\Users\\ADMIN\\anaconda3\\lib\\site-packages\\scipy\\stats\\stats.py:1603: UserWarning: kurtosistest only valid for n>=20 ... continuing anyway, n=8\n",
      "  warnings.warn(\"kurtosistest only valid for n>=20 ... continuing \"\n"
     ]
    },
    {
     "data": {
      "text/html": [
       "<table class=\"simpletable\">\n",
       "<caption>OLS Regression Results</caption>\n",
       "<tr>\n",
       "  <th>Dep. Variable:</th>           <td>x1</td>        <th>  R-squared:         </th> <td>   1.000</td> \n",
       "</tr>\n",
       "<tr>\n",
       "  <th>Model:</th>                   <td>OLS</td>       <th>  Adj. R-squared:    </th> <td>   1.000</td> \n",
       "</tr>\n",
       "<tr>\n",
       "  <th>Method:</th>             <td>Least Squares</td>  <th>  F-statistic:       </th> <td>6.474e+27</td>\n",
       "</tr>\n",
       "<tr>\n",
       "  <th>Date:</th>             <td>Wed, 12 May 2021</td> <th>  Prob (F-statistic):</th> <td>3.12e-42</td> \n",
       "</tr>\n",
       "<tr>\n",
       "  <th>Time:</th>                 <td>19:47:22</td>     <th>  Log-Likelihood:    </th> <td>  197.65</td> \n",
       "</tr>\n",
       "<tr>\n",
       "  <th>No. Observations:</th>      <td>     8</td>      <th>  AIC:               </th> <td>  -385.3</td> \n",
       "</tr>\n",
       "<tr>\n",
       "  <th>Df Residuals:</th>          <td>     3</td>      <th>  BIC:               </th> <td>  -384.9</td> \n",
       "</tr>\n",
       "<tr>\n",
       "  <th>Df Model:</th>              <td>     4</td>      <th>                     </th>     <td> </td>    \n",
       "</tr>\n",
       "<tr>\n",
       "  <th>Covariance Type:</th>      <td>nonrobust</td>    <th>                     </th>     <td> </td>    \n",
       "</tr>\n",
       "</table>\n",
       "<table class=\"simpletable\">\n",
       "<tr>\n",
       "      <td></td>         <th>coef</th>     <th>std err</th>      <th>t</th>      <th>P>|t|</th>  <th>[0.025</th>    <th>0.975]</th>  \n",
       "</tr>\n",
       "<tr>\n",
       "  <th>Intercept</th> <td>-1.364e-12</td> <td> 3.34e-11</td> <td>   -0.041</td> <td> 0.970</td> <td>-1.08e-10</td> <td> 1.05e-10</td>\n",
       "</tr>\n",
       "<tr>\n",
       "  <th>x1</th>        <td>    1.0000</td> <td>  1.1e-14</td> <td> 9.05e+13</td> <td> 0.000</td> <td>    1.000</td> <td>    1.000</td>\n",
       "</tr>\n",
       "<tr>\n",
       "  <th>x2</th>        <td>-4.441e-16</td> <td> 8.72e-15</td> <td>   -0.051</td> <td> 0.963</td> <td>-2.82e-14</td> <td> 2.73e-14</td>\n",
       "</tr>\n",
       "<tr>\n",
       "  <th>x3</th>        <td> -1.11e-16</td> <td> 9.63e-15</td> <td>   -0.012</td> <td> 0.992</td> <td>-3.07e-14</td> <td> 3.05e-14</td>\n",
       "</tr>\n",
       "<tr>\n",
       "  <th>x4</th>        <td>-6.384e-16</td> <td>  8.5e-15</td> <td>   -0.075</td> <td> 0.945</td> <td>-2.77e-14</td> <td> 2.64e-14</td>\n",
       "</tr>\n",
       "</table>\n",
       "<table class=\"simpletable\">\n",
       "<tr>\n",
       "  <th>Omnibus:</th>       <td> 5.093</td> <th>  Durbin-Watson:     </th> <td>   0.018</td>\n",
       "</tr>\n",
       "<tr>\n",
       "  <th>Prob(Omnibus):</th> <td> 0.078</td> <th>  Jarque-Bera (JB):  </th> <td>   1.151</td>\n",
       "</tr>\n",
       "<tr>\n",
       "  <th>Skew:</th>          <td> 0.250</td> <th>  Prob(JB):          </th> <td>   0.562</td>\n",
       "</tr>\n",
       "<tr>\n",
       "  <th>Kurtosis:</th>      <td> 1.210</td> <th>  Cond. No.          </th> <td>7.61e+04</td>\n",
       "</tr>\n",
       "</table><br/><br/>Warnings:<br/>[1] Standard Errors assume that the covariance matrix of the errors is correctly specified.<br/>[2] The condition number is large, 7.61e+04. This might indicate that there are<br/>strong multicollinearity or other numerical problems."
      ],
      "text/plain": [
       "<class 'statsmodels.iolib.summary.Summary'>\n",
       "\"\"\"\n",
       "                            OLS Regression Results                            \n",
       "==============================================================================\n",
       "Dep. Variable:                     x1   R-squared:                       1.000\n",
       "Model:                            OLS   Adj. R-squared:                  1.000\n",
       "Method:                 Least Squares   F-statistic:                 6.474e+27\n",
       "Date:                Wed, 12 May 2021   Prob (F-statistic):           3.12e-42\n",
       "Time:                        19:47:22   Log-Likelihood:                 197.65\n",
       "No. Observations:                   8   AIC:                            -385.3\n",
       "Df Residuals:                       3   BIC:                            -384.9\n",
       "Df Model:                           4                                         \n",
       "Covariance Type:            nonrobust                                         \n",
       "==============================================================================\n",
       "                 coef    std err          t      P>|t|      [0.025      0.975]\n",
       "------------------------------------------------------------------------------\n",
       "Intercept  -1.364e-12   3.34e-11     -0.041      0.970   -1.08e-10    1.05e-10\n",
       "x1             1.0000    1.1e-14   9.05e+13      0.000       1.000       1.000\n",
       "x2         -4.441e-16   8.72e-15     -0.051      0.963   -2.82e-14    2.73e-14\n",
       "x3          -1.11e-16   9.63e-15     -0.012      0.992   -3.07e-14    3.05e-14\n",
       "x4         -6.384e-16    8.5e-15     -0.075      0.945   -2.77e-14    2.64e-14\n",
       "==============================================================================\n",
       "Omnibus:                        5.093   Durbin-Watson:                   0.018\n",
       "Prob(Omnibus):                  0.078   Jarque-Bera (JB):                1.151\n",
       "Skew:                           0.250   Prob(JB):                        0.562\n",
       "Kurtosis:                       1.210   Cond. No.                     7.61e+04\n",
       "==============================================================================\n",
       "\n",
       "Warnings:\n",
       "[1] Standard Errors assume that the covariance matrix of the errors is correctly specified.\n",
       "[2] The condition number is large, 7.61e+04. This might indicate that there are\n",
       "strong multicollinearity or other numerical problems.\n",
       "\"\"\""
      ]
     },
     "execution_count": 10,
     "metadata": {},
     "output_type": "execute_result"
    }
   ],
   "source": [
    "model.summary()"
   ]
  },
  {
   "cell_type": "markdown",
   "metadata": {},
   "source": [
    "[Red Dye Number 40](https://college.cengage.com/mathematics/brase/understandable_statistics/7e/students/datasets/owan/frames/owan03.html)\n",
    "\n",
    "S.W. Laagakos and F. Mosteller of Harvard University fed mice different doses of red dye number 40 and recorded the time of death in weeks. Results for female mice, dosage and time of death are shown in the data\n",
    "- X1 = time of death for control group\n",
    "- X2 = time of death for group with low dosage\n",
    "- X3 = time of death for group with medium dosage\n",
    "- X4 = time of death for group with high dosage\n",
    "\n",
    "Xây dựng giả thuyết:\n",
    "\n",
    "$$H_{0}: \\mu{1} = \\mu{2} =\\mu{3} =\\mu{4} $$ \n",
    "\n",
    "$$H_{a}: \\text{Có tối thiểu một cặp giá trị trung bình có giá trị khác nhau}$$"
   ]
  },
  {
   "cell_type": "code",
   "execution_count": 25,
   "metadata": {},
   "outputs": [
    {
     "name": "stdout",
     "output_type": "stream",
     "text": [
      "*** No CODEPAGE record, no encoding_override: will use 'ascii'\n"
     ]
    },
    {
     "data": {
      "text/html": [
       "<div>\n",
       "<style scoped>\n",
       "    .dataframe tbody tr th:only-of-type {\n",
       "        vertical-align: middle;\n",
       "    }\n",
       "\n",
       "    .dataframe tbody tr th {\n",
       "        vertical-align: top;\n",
       "    }\n",
       "\n",
       "    .dataframe thead th {\n",
       "        text-align: right;\n",
       "    }\n",
       "</style>\n",
       "<table border=\"1\" class=\"dataframe\">\n",
       "  <thead>\n",
       "    <tr style=\"text-align: right;\">\n",
       "      <th></th>\n",
       "      <th>X1</th>\n",
       "      <th>X2</th>\n",
       "      <th>X3</th>\n",
       "      <th>X4</th>\n",
       "    </tr>\n",
       "  </thead>\n",
       "  <tbody>\n",
       "    <tr>\n",
       "      <th>0</th>\n",
       "      <td>70</td>\n",
       "      <td>49.0</td>\n",
       "      <td>30.0</td>\n",
       "      <td>34.0</td>\n",
       "    </tr>\n",
       "    <tr>\n",
       "      <th>1</th>\n",
       "      <td>77</td>\n",
       "      <td>60.0</td>\n",
       "      <td>37.0</td>\n",
       "      <td>36.0</td>\n",
       "    </tr>\n",
       "    <tr>\n",
       "      <th>2</th>\n",
       "      <td>83</td>\n",
       "      <td>63.0</td>\n",
       "      <td>56.0</td>\n",
       "      <td>48.0</td>\n",
       "    </tr>\n",
       "    <tr>\n",
       "      <th>3</th>\n",
       "      <td>87</td>\n",
       "      <td>67.0</td>\n",
       "      <td>65.0</td>\n",
       "      <td>48.0</td>\n",
       "    </tr>\n",
       "    <tr>\n",
       "      <th>4</th>\n",
       "      <td>92</td>\n",
       "      <td>70.0</td>\n",
       "      <td>76.0</td>\n",
       "      <td>65.0</td>\n",
       "    </tr>\n",
       "    <tr>\n",
       "      <th>5</th>\n",
       "      <td>93</td>\n",
       "      <td>74.0</td>\n",
       "      <td>83.0</td>\n",
       "      <td>91.0</td>\n",
       "    </tr>\n",
       "    <tr>\n",
       "      <th>6</th>\n",
       "      <td>100</td>\n",
       "      <td>77.0</td>\n",
       "      <td>87.0</td>\n",
       "      <td>98.0</td>\n",
       "    </tr>\n",
       "    <tr>\n",
       "      <th>7</th>\n",
       "      <td>102</td>\n",
       "      <td>80.0</td>\n",
       "      <td>90.0</td>\n",
       "      <td>102.0</td>\n",
       "    </tr>\n",
       "    <tr>\n",
       "      <th>8</th>\n",
       "      <td>102</td>\n",
       "      <td>89.0</td>\n",
       "      <td>94.0</td>\n",
       "      <td>NaN</td>\n",
       "    </tr>\n",
       "    <tr>\n",
       "      <th>9</th>\n",
       "      <td>103</td>\n",
       "      <td>NaN</td>\n",
       "      <td>97.0</td>\n",
       "      <td>NaN</td>\n",
       "    </tr>\n",
       "    <tr>\n",
       "      <th>10</th>\n",
       "      <td>96</td>\n",
       "      <td>NaN</td>\n",
       "      <td>NaN</td>\n",
       "      <td>NaN</td>\n",
       "    </tr>\n",
       "  </tbody>\n",
       "</table>\n",
       "</div>"
      ],
      "text/plain": [
       "     X1    X2    X3     X4\n",
       "0    70  49.0  30.0   34.0\n",
       "1    77  60.0  37.0   36.0\n",
       "2    83  63.0  56.0   48.0\n",
       "3    87  67.0  65.0   48.0\n",
       "4    92  70.0  76.0   65.0\n",
       "5    93  74.0  83.0   91.0\n",
       "6   100  77.0  87.0   98.0\n",
       "7   102  80.0  90.0  102.0\n",
       "8   102  89.0  94.0    NaN\n",
       "9   103   NaN  97.0    NaN\n",
       "10   96   NaN   NaN    NaN"
      ]
     },
     "execution_count": 25,
     "metadata": {},
     "output_type": "execute_result"
    }
   ],
   "source": [
    "# Đọc file:\n",
    "df3 = pd.read_excel('owan03.xls')\n",
    "df3\n",
    "# Vì kích thước các mẫu trong dữ liệu không bằng nhau nên không thể kiểm định ANOVA"
   ]
  },
  {
   "cell_type": "markdown",
   "metadata": {},
   "source": [
    "[Business Startup Costs](https://college.cengage.com/mathematics/brase/understandable_statistics/7e/students/datasets/owan/frames/owan04.html)\n",
    "\n",
    "The following data represent business startup costs (thousands of dollars) for shops.\n",
    "- X1 = startup costs for pizza\n",
    "- X2 = startup costs for baker/donuts\n",
    "- X3 = startup costs for shoe stores\n",
    "- X4 = startup costs for gift shops\n",
    "- X5 = startup costs for pet stores\n",
    "\n",
    "Xây dựng giả thuyết\n",
    "\n",
    "$$H_{0}: \\mu{1} = \\mu{2} =\\mu{3} =\\mu{4} =\\mu{5} $$ (tất cả các trung bình tổng thể đều bằng nhau)\n",
    "\n",
    "$$H_{a}: \\text{Có tối thiểu một cặp giá trị trung bình có giá trị khác nhau}$$"
   ]
  },
  {
   "cell_type": "code",
   "execution_count": 26,
   "metadata": {},
   "outputs": [
    {
     "name": "stdout",
     "output_type": "stream",
     "text": [
      "*** No CODEPAGE record, no encoding_override: will use 'ascii'\n"
     ]
    },
    {
     "data": {
      "text/html": [
       "<div>\n",
       "<style scoped>\n",
       "    .dataframe tbody tr th:only-of-type {\n",
       "        vertical-align: middle;\n",
       "    }\n",
       "\n",
       "    .dataframe tbody tr th {\n",
       "        vertical-align: top;\n",
       "    }\n",
       "\n",
       "    .dataframe thead th {\n",
       "        text-align: right;\n",
       "    }\n",
       "</style>\n",
       "<table border=\"1\" class=\"dataframe\">\n",
       "  <thead>\n",
       "    <tr style=\"text-align: right;\">\n",
       "      <th></th>\n",
       "      <th>X1</th>\n",
       "      <th>X2</th>\n",
       "      <th>X3</th>\n",
       "      <th>X4</th>\n",
       "      <th>X5</th>\n",
       "    </tr>\n",
       "  </thead>\n",
       "  <tbody>\n",
       "    <tr>\n",
       "      <th>0</th>\n",
       "      <td>80.0</td>\n",
       "      <td>150.0</td>\n",
       "      <td>48.0</td>\n",
       "      <td>100.0</td>\n",
       "      <td>25</td>\n",
       "    </tr>\n",
       "    <tr>\n",
       "      <th>1</th>\n",
       "      <td>125.0</td>\n",
       "      <td>40.0</td>\n",
       "      <td>35.0</td>\n",
       "      <td>96.0</td>\n",
       "      <td>80</td>\n",
       "    </tr>\n",
       "    <tr>\n",
       "      <th>2</th>\n",
       "      <td>35.0</td>\n",
       "      <td>120.0</td>\n",
       "      <td>95.0</td>\n",
       "      <td>35.0</td>\n",
       "      <td>30</td>\n",
       "    </tr>\n",
       "    <tr>\n",
       "      <th>3</th>\n",
       "      <td>58.0</td>\n",
       "      <td>75.0</td>\n",
       "      <td>45.0</td>\n",
       "      <td>99.0</td>\n",
       "      <td>35</td>\n",
       "    </tr>\n",
       "    <tr>\n",
       "      <th>4</th>\n",
       "      <td>110.0</td>\n",
       "      <td>160.0</td>\n",
       "      <td>75.0</td>\n",
       "      <td>75.0</td>\n",
       "      <td>30</td>\n",
       "    </tr>\n",
       "    <tr>\n",
       "      <th>5</th>\n",
       "      <td>140.0</td>\n",
       "      <td>60.0</td>\n",
       "      <td>115.0</td>\n",
       "      <td>150.0</td>\n",
       "      <td>28</td>\n",
       "    </tr>\n",
       "    <tr>\n",
       "      <th>6</th>\n",
       "      <td>97.0</td>\n",
       "      <td>45.0</td>\n",
       "      <td>42.0</td>\n",
       "      <td>45.0</td>\n",
       "      <td>20</td>\n",
       "    </tr>\n",
       "    <tr>\n",
       "      <th>7</th>\n",
       "      <td>50.0</td>\n",
       "      <td>100.0</td>\n",
       "      <td>78.0</td>\n",
       "      <td>100.0</td>\n",
       "      <td>75</td>\n",
       "    </tr>\n",
       "    <tr>\n",
       "      <th>8</th>\n",
       "      <td>65.0</td>\n",
       "      <td>86.0</td>\n",
       "      <td>65.0</td>\n",
       "      <td>120.0</td>\n",
       "      <td>48</td>\n",
       "    </tr>\n",
       "    <tr>\n",
       "      <th>9</th>\n",
       "      <td>79.0</td>\n",
       "      <td>87.0</td>\n",
       "      <td>125.0</td>\n",
       "      <td>50.0</td>\n",
       "      <td>20</td>\n",
       "    </tr>\n",
       "    <tr>\n",
       "      <th>10</th>\n",
       "      <td>35.0</td>\n",
       "      <td>90.0</td>\n",
       "      <td>NaN</td>\n",
       "      <td>NaN</td>\n",
       "      <td>50</td>\n",
       "    </tr>\n",
       "    <tr>\n",
       "      <th>11</th>\n",
       "      <td>85.0</td>\n",
       "      <td>NaN</td>\n",
       "      <td>NaN</td>\n",
       "      <td>NaN</td>\n",
       "      <td>75</td>\n",
       "    </tr>\n",
       "    <tr>\n",
       "      <th>12</th>\n",
       "      <td>120.0</td>\n",
       "      <td>NaN</td>\n",
       "      <td>NaN</td>\n",
       "      <td>NaN</td>\n",
       "      <td>55</td>\n",
       "    </tr>\n",
       "    <tr>\n",
       "      <th>13</th>\n",
       "      <td>NaN</td>\n",
       "      <td>NaN</td>\n",
       "      <td>NaN</td>\n",
       "      <td>NaN</td>\n",
       "      <td>60</td>\n",
       "    </tr>\n",
       "    <tr>\n",
       "      <th>14</th>\n",
       "      <td>NaN</td>\n",
       "      <td>NaN</td>\n",
       "      <td>NaN</td>\n",
       "      <td>NaN</td>\n",
       "      <td>85</td>\n",
       "    </tr>\n",
       "    <tr>\n",
       "      <th>15</th>\n",
       "      <td>NaN</td>\n",
       "      <td>NaN</td>\n",
       "      <td>NaN</td>\n",
       "      <td>NaN</td>\n",
       "      <td>110</td>\n",
       "    </tr>\n",
       "  </tbody>\n",
       "</table>\n",
       "</div>"
      ],
      "text/plain": [
       "       X1     X2     X3     X4   X5\n",
       "0    80.0  150.0   48.0  100.0   25\n",
       "1   125.0   40.0   35.0   96.0   80\n",
       "2    35.0  120.0   95.0   35.0   30\n",
       "3    58.0   75.0   45.0   99.0   35\n",
       "4   110.0  160.0   75.0   75.0   30\n",
       "5   140.0   60.0  115.0  150.0   28\n",
       "6    97.0   45.0   42.0   45.0   20\n",
       "7    50.0  100.0   78.0  100.0   75\n",
       "8    65.0   86.0   65.0  120.0   48\n",
       "9    79.0   87.0  125.0   50.0   20\n",
       "10   35.0   90.0    NaN    NaN   50\n",
       "11   85.0    NaN    NaN    NaN   75\n",
       "12  120.0    NaN    NaN    NaN   55\n",
       "13    NaN    NaN    NaN    NaN   60\n",
       "14    NaN    NaN    NaN    NaN   85\n",
       "15    NaN    NaN    NaN    NaN  110"
      ]
     },
     "execution_count": 26,
     "metadata": {},
     "output_type": "execute_result"
    }
   ],
   "source": [
    "# Đọc file:\n",
    "df4 = pd.read_excel('owan04.xls')\n",
    "df4\n",
    "# Vì kích thước các mẫu trong dữ liệu không bằng nhau nên không thể kiểm định ANOVA"
   ]
  },
  {
   "cell_type": "markdown",
   "metadata": {},
   "source": [
    "[Weights of Football Players](https://college.cengage.com/mathematics/brase/understandable_statistics/7e/students/datasets/owan/frames/owan05.html)\n",
    "\n",
    "The following data represent weights (pounds) of a random sample of professional football players on the following teams.\n",
    "- X1 = weights of players for the Dallas Cowboys\n",
    "- X2 = weights of players for the Green Bay Packers\n",
    "- X3 = weights of players for the Denver Broncos\n",
    "- X4 = weights of players for the Miami Dolphins\n",
    "- X5 = weights of players for the San Francisco Forty Niners\n",
    "\n",
    "Xây dựng giả thuyết\n",
    "\n",
    "$$H_{0}: \\mu{1} = \\mu{2} =\\mu{3} =\\mu{4} =\\mu{5} $$ (tất cả các trung bình tổng thể đều bằng nhau)\n",
    "\n",
    "$$H_{a}: \\text{Có tối thiểu một cặp giá trị trung bình có giá trị khác nhau}$$"
   ]
  },
  {
   "cell_type": "code",
   "execution_count": 27,
   "metadata": {},
   "outputs": [
    {
     "name": "stdout",
     "output_type": "stream",
     "text": [
      "*** No CODEPAGE record, no encoding_override: will use 'ascii'\n"
     ]
    },
    {
     "data": {
      "text/html": [
       "<div>\n",
       "<style scoped>\n",
       "    .dataframe tbody tr th:only-of-type {\n",
       "        vertical-align: middle;\n",
       "    }\n",
       "\n",
       "    .dataframe tbody tr th {\n",
       "        vertical-align: top;\n",
       "    }\n",
       "\n",
       "    .dataframe thead th {\n",
       "        text-align: right;\n",
       "    }\n",
       "</style>\n",
       "<table border=\"1\" class=\"dataframe\">\n",
       "  <thead>\n",
       "    <tr style=\"text-align: right;\">\n",
       "      <th></th>\n",
       "      <th>X1</th>\n",
       "      <th>X2</th>\n",
       "      <th>X3</th>\n",
       "      <th>X4</th>\n",
       "      <th>X5</th>\n",
       "    </tr>\n",
       "  </thead>\n",
       "  <tbody>\n",
       "    <tr>\n",
       "      <th>0</th>\n",
       "      <td>250</td>\n",
       "      <td>260</td>\n",
       "      <td>270</td>\n",
       "      <td>260</td>\n",
       "      <td>247</td>\n",
       "    </tr>\n",
       "    <tr>\n",
       "      <th>1</th>\n",
       "      <td>255</td>\n",
       "      <td>271</td>\n",
       "      <td>250</td>\n",
       "      <td>255</td>\n",
       "      <td>249</td>\n",
       "    </tr>\n",
       "    <tr>\n",
       "      <th>2</th>\n",
       "      <td>255</td>\n",
       "      <td>258</td>\n",
       "      <td>281</td>\n",
       "      <td>265</td>\n",
       "      <td>255</td>\n",
       "    </tr>\n",
       "    <tr>\n",
       "      <th>3</th>\n",
       "      <td>264</td>\n",
       "      <td>263</td>\n",
       "      <td>273</td>\n",
       "      <td>257</td>\n",
       "      <td>247</td>\n",
       "    </tr>\n",
       "    <tr>\n",
       "      <th>4</th>\n",
       "      <td>250</td>\n",
       "      <td>267</td>\n",
       "      <td>257</td>\n",
       "      <td>268</td>\n",
       "      <td>244</td>\n",
       "    </tr>\n",
       "    <tr>\n",
       "      <th>5</th>\n",
       "      <td>265</td>\n",
       "      <td>254</td>\n",
       "      <td>264</td>\n",
       "      <td>263</td>\n",
       "      <td>245</td>\n",
       "    </tr>\n",
       "    <tr>\n",
       "      <th>6</th>\n",
       "      <td>245</td>\n",
       "      <td>255</td>\n",
       "      <td>233</td>\n",
       "      <td>247</td>\n",
       "      <td>249</td>\n",
       "    </tr>\n",
       "    <tr>\n",
       "      <th>7</th>\n",
       "      <td>252</td>\n",
       "      <td>250</td>\n",
       "      <td>254</td>\n",
       "      <td>253</td>\n",
       "      <td>260</td>\n",
       "    </tr>\n",
       "    <tr>\n",
       "      <th>8</th>\n",
       "      <td>266</td>\n",
       "      <td>248</td>\n",
       "      <td>268</td>\n",
       "      <td>251</td>\n",
       "      <td>217</td>\n",
       "    </tr>\n",
       "    <tr>\n",
       "      <th>9</th>\n",
       "      <td>246</td>\n",
       "      <td>240</td>\n",
       "      <td>252</td>\n",
       "      <td>252</td>\n",
       "      <td>208</td>\n",
       "    </tr>\n",
       "    <tr>\n",
       "      <th>10</th>\n",
       "      <td>251</td>\n",
       "      <td>254</td>\n",
       "      <td>256</td>\n",
       "      <td>266</td>\n",
       "      <td>228</td>\n",
       "    </tr>\n",
       "    <tr>\n",
       "      <th>11</th>\n",
       "      <td>263</td>\n",
       "      <td>275</td>\n",
       "      <td>265</td>\n",
       "      <td>264</td>\n",
       "      <td>253</td>\n",
       "    </tr>\n",
       "    <tr>\n",
       "      <th>12</th>\n",
       "      <td>248</td>\n",
       "      <td>270</td>\n",
       "      <td>252</td>\n",
       "      <td>210</td>\n",
       "      <td>249</td>\n",
       "    </tr>\n",
       "    <tr>\n",
       "      <th>13</th>\n",
       "      <td>228</td>\n",
       "      <td>225</td>\n",
       "      <td>256</td>\n",
       "      <td>236</td>\n",
       "      <td>223</td>\n",
       "    </tr>\n",
       "    <tr>\n",
       "      <th>14</th>\n",
       "      <td>221</td>\n",
       "      <td>222</td>\n",
       "      <td>235</td>\n",
       "      <td>225</td>\n",
       "      <td>221</td>\n",
       "    </tr>\n",
       "    <tr>\n",
       "      <th>15</th>\n",
       "      <td>223</td>\n",
       "      <td>230</td>\n",
       "      <td>216</td>\n",
       "      <td>230</td>\n",
       "      <td>228</td>\n",
       "    </tr>\n",
       "    <tr>\n",
       "      <th>16</th>\n",
       "      <td>220</td>\n",
       "      <td>225</td>\n",
       "      <td>241</td>\n",
       "      <td>232</td>\n",
       "      <td>271</td>\n",
       "    </tr>\n",
       "  </tbody>\n",
       "</table>\n",
       "</div>"
      ],
      "text/plain": [
       "     X1   X2   X3   X4   X5\n",
       "0   250  260  270  260  247\n",
       "1   255  271  250  255  249\n",
       "2   255  258  281  265  255\n",
       "3   264  263  273  257  247\n",
       "4   250  267  257  268  244\n",
       "5   265  254  264  263  245\n",
       "6   245  255  233  247  249\n",
       "7   252  250  254  253  260\n",
       "8   266  248  268  251  217\n",
       "9   246  240  252  252  208\n",
       "10  251  254  256  266  228\n",
       "11  263  275  265  264  253\n",
       "12  248  270  252  210  249\n",
       "13  228  225  256  236  223\n",
       "14  221  222  235  225  221\n",
       "15  223  230  216  230  228\n",
       "16  220  225  241  232  271"
      ]
     },
     "execution_count": 27,
     "metadata": {},
     "output_type": "execute_result"
    }
   ],
   "source": [
    "# Đọc file:\n",
    "df5 = pd.read_excel('owan05.xls')\n",
    "df5"
   ]
  },
  {
   "cell_type": "code",
   "execution_count": 28,
   "metadata": {},
   "outputs": [],
   "source": [
    "#Tách thành từng series\n",
    "x1 = df5['X1'].dropna()\n",
    "x2 = df5['X2'].dropna()\n",
    "x3 = df5['X3'].dropna()\n",
    "x4 = df5['X4'].dropna()\n",
    "x5 = df5['X5'].dropna()"
   ]
  },
  {
   "cell_type": "markdown",
   "metadata": {},
   "source": [
    "**Xây dựng giả thuyết kiểm định Shapiro**\n",
    "\n",
    "$H_{0}: \\text{Dữ liệu tuân theo phân phối chuẩn.}$\n",
    "\n",
    "$H_{a}: \\text{Dữ liệu không tuân theo phân phối chuẩn.}$"
   ]
  },
  {
   "cell_type": "code",
   "execution_count": 31,
   "metadata": {
    "scrolled": true
   },
   "outputs": [
    {
     "name": "stdout",
     "output_type": "stream",
     "text": [
      "Xét X1:\n"
     ]
    },
    {
     "name": "stderr",
     "output_type": "stream",
     "text": [
      "C:\\Users\\ADMIN\\anaconda3\\lib\\site-packages\\seaborn\\distributions.py:2557: FutureWarning: `distplot` is a deprecated function and will be removed in a future version. Please adapt your code to use either `displot` (a figure-level function with similar flexibility) or `histplot` (an axes-level function for histograms).\n",
      "  warnings.warn(msg, FutureWarning)\n"
     ]
    },
    {
     "data": {
      "image/png": "[encoded data removed]",
      "text/plain": [
       "<Figure size 432x288 with 1 Axes>"
      ]
     },
     "metadata": {
      "needs_background": "light"
     },
     "output_type": "display_data"
    },
    {
     "data": {
      "image/png": "[encoded data removed]",
      "text/plain": [
       "<Figure size 432x288 with 1 Axes>"
      ]
     },
     "metadata": {
      "needs_background": "light"
     },
     "output_type": "display_data"
    },
    {
     "name": "stdout",
     "output_type": "stream",
     "text": [
      "Kiểm định Shapori:\n",
      "Giả thiết H0: \n",
      "stat=0.877, p=0.029\n",
      "Có bằng chứng thống kê để bác bỏ giả thuyết H0. Điều này ngụ ý: Dữ liệu không tuân theo luật phân phối chuẩn\n",
      "----------\n",
      "Do đó không thể chạy kiểm định ANOVA 1 chiều.\n",
      "--------------------------------------------------\n",
      "Xét X2:\n"
     ]
    },
    {
     "name": "stderr",
     "output_type": "stream",
     "text": [
      "C:\\Users\\ADMIN\\anaconda3\\lib\\site-packages\\seaborn\\distributions.py:2557: FutureWarning: `distplot` is a deprecated function and will be removed in a future version. Please adapt your code to use either `displot` (a figure-level function with similar flexibility) or `histplot` (an axes-level function for histograms).\n",
      "  warnings.warn(msg, FutureWarning)\n"
     ]
    },
    {
     "data": {
      "image/png": "[encoded data removed]",
      "text/plain": [
       "<Figure size 432x288 with 1 Axes>"
      ]
     },
     "metadata": {
      "needs_background": "light"
     },
     "output_type": "display_data"
    },
    {
     "data": {
      "image/png": "[encoded data removed]",
      "text/plain": [
       "<Figure size 432x288 with 1 Axes>"
      ]
     },
     "metadata": {
      "needs_background": "light"
     },
     "output_type": "display_data"
    },
    {
     "name": "stdout",
     "output_type": "stream",
     "text": [
      "Kiểm định Shapori:\n",
      "Giả thiết H0: \n",
      "stat=0.923, p=0.163\n",
      "Chưa có bằng chứng thống kê để bác bỏ giả thuyết H0. Điều này ngụ ý: Dữ liệu tuân theo phân phối chuẩn\n",
      "--------------------------------------------------\n",
      "Xét X3:\n"
     ]
    },
    {
     "name": "stderr",
     "output_type": "stream",
     "text": [
      "C:\\Users\\ADMIN\\anaconda3\\lib\\site-packages\\seaborn\\distributions.py:2557: FutureWarning: `distplot` is a deprecated function and will be removed in a future version. Please adapt your code to use either `displot` (a figure-level function with similar flexibility) or `histplot` (an axes-level function for histograms).\n",
      "  warnings.warn(msg, FutureWarning)\n"
     ]
    },
    {
     "data": {
      "image/png": "[encoded data removed]",
      "text/plain": [
       "<Figure size 432x288 with 1 Axes>"
      ]
     },
     "metadata": {
      "needs_background": "light"
     },
     "output_type": "display_data"
    },
    {
     "data": {
      "image/png": "[encoded data removed]",
      "text/plain": [
       "<Figure size 432x288 with 1 Axes>"
      ]
     },
     "metadata": {
      "needs_background": "light"
     },
     "output_type": "display_data"
    },
    {
     "name": "stdout",
     "output_type": "stream",
     "text": [
      "Kiểm định Shapori:\n",
      "Giả thiết H0: \n",
      "stat=0.962, p=0.663\n",
      "Chưa có bằng chứng thống kê để bác bỏ giả thuyết H0. Điều này ngụ ý: Dữ liệu tuân theo phân phối chuẩn\n",
      "--------------------------------------------------\n",
      "Xét X4:\n"
     ]
    },
    {
     "name": "stderr",
     "output_type": "stream",
     "text": [
      "C:\\Users\\ADMIN\\anaconda3\\lib\\site-packages\\seaborn\\distributions.py:2557: FutureWarning: `distplot` is a deprecated function and will be removed in a future version. Please adapt your code to use either `displot` (a figure-level function with similar flexibility) or `histplot` (an axes-level function for histograms).\n",
      "  warnings.warn(msg, FutureWarning)\n"
     ]
    },
    {
     "data": {
      "image/png": "[encoded data removed]",
      "text/plain": [
       "<Figure size 432x288 with 1 Axes>"
      ]
     },
     "metadata": {
      "needs_background": "light"
     },
     "output_type": "display_data"
    },
    {
     "data": {
      "image/png": "[encoded data removed]",
      "text/plain": [
       "<Figure size 432x288 with 1 Axes>"
      ]
     },
     "metadata": {
      "needs_background": "light"
     },
     "output_type": "display_data"
    },
    {
     "name": "stdout",
     "output_type": "stream",
     "text": [
      "Kiểm định Shapori:\n",
      "Giả thiết H0: \n",
      "stat=0.899, p=0.065\n",
      "Chưa có bằng chứng thống kê để bác bỏ giả thuyết H0. Điều này ngụ ý: Dữ liệu tuân theo phân phối chuẩn\n",
      "--------------------------------------------------\n",
      "Xét X5:\n"
     ]
    },
    {
     "name": "stderr",
     "output_type": "stream",
     "text": [
      "C:\\Users\\ADMIN\\anaconda3\\lib\\site-packages\\seaborn\\distributions.py:2557: FutureWarning: `distplot` is a deprecated function and will be removed in a future version. Please adapt your code to use either `displot` (a figure-level function with similar flexibility) or `histplot` (an axes-level function for histograms).\n",
      "  warnings.warn(msg, FutureWarning)\n"
     ]
    },
    {
     "data": {
      "image/png": "[encoded data removed]",
      "text/plain": [
       "<Figure size 432x288 with 1 Axes>"
      ]
     },
     "metadata": {
      "needs_background": "light"
     },
     "output_type": "display_data"
    },
    {
     "data": {
      "image/png": "[encoded data removed]",
      "text/plain": [
       "<Figure size 432x288 with 1 Axes>"
      ]
     },
     "metadata": {
      "needs_background": "light"
     },
     "output_type": "display_data"
    },
    {
     "name": "stdout",
     "output_type": "stream",
     "text": [
      "Kiểm định Shapori:\n",
      "Giả thiết H0: \n",
      "stat=0.942, p=0.338\n",
      "Chưa có bằng chứng thống kê để bác bỏ giả thuyết H0. Điều này ngụ ý: Dữ liệu tuân theo phân phối chuẩn\n",
      "--------------------------------------------------\n"
     ]
    }
   ],
   "source": [
    "print('Xét X1:')\n",
    "X1 = thongke(x1)\n",
    "X1.hist()\n",
    "X1.qq()\n",
    "X1.shapiro()\n",
    "\n",
    "print('Xét X2:')\n",
    "X2 = thongke(x2)\n",
    "X2.hist()\n",
    "X2.qq()\n",
    "X2.shapiro()\n",
    "\n",
    "print('Xét X3:')\n",
    "X3 = thongke(x3)\n",
    "X3.hist()\n",
    "X3.qq()\n",
    "X3.shapiro()\n",
    "\n",
    "print('Xét X4:')\n",
    "X4 = thongke(x4)\n",
    "X4.hist()\n",
    "X4.qq()\n",
    "X4.shapiro()\n",
    "\n",
    "print('Xét X5:')\n",
    "X5 = thongke(x5)\n",
    "X5.hist()\n",
    "X5.qq()\n",
    "X5.shapiro()"
   ]
  },
  {
   "cell_type": "code",
   "execution_count": 20,
   "metadata": {},
   "outputs": [
    {
     "name": "stdout",
     "output_type": "stream",
     "text": [
      "Vì X1 không tuân theo phân phối chuẩn. Do đó không thể chạy kiểm định ANOVA 1 chiều.\n"
     ]
    }
   ],
   "source": [
    "#Kiểm định Leneve:\n",
    "print('Vì X1 không tuân theo phân phối chuẩn. Do đó không thể chạy kiểm định ANOVA 1 chiều.')"
   ]
  }
 ],
 "metadata": {
  "colab": {
   "name": "bai-tap-phan-tich-anova-1-chieu.ipynb",
   "provenance": []
  },
  "kernelspec": {
   "display_name": "Python 3",
   "language": "python",
   "name": "python3"
  },
  "language_info": {
   "codemirror_mode": {
    "name": "ipython",
    "version": 3
   },
   "file_extension": ".py",
   "mimetype": "text/x-python",
   "name": "python",
   "nbconvert_exporter": "python",
   "pygments_lexer": "ipython3",
   "version": "3.8.3"
  }
 },
 "nbformat": 4,
 "nbformat_minor": 1
}
