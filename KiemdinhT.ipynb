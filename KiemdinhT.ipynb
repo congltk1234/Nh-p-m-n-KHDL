{
 "cells": [
  {
   "cell_type": "markdown",
   "metadata": {},
   "source": [
    "# Kiểm định One-Sample T-Test"
   ]
  },
  {
   "cell_type": "markdown",
   "metadata": {},
   "source": [
    "Ta có giả thiết, chiều cao trung bình của người trưởng thành từ 20 tuổi trở lên là khoảng 66,5 inch (69,3 inch đối với nam, 63,8 inch đối với nữ). Ta sẽ kiểm tra xem khẳng định này có phù hợp với mức ý nghĩa là 5% hay không?\n",
    "\n",
    "Phát biểu giả thuyết thống kê: \n",
    "\n",
    "Ho: 66,5 = Chiều cao  trung bình (\"chiều cao trung bình của người trưởng thành bằng 66,5inch)\n",
    "$$H_{0}: \\mu = 66.5$$\n",
    "\n",
    "H1: 66,5 ≠ Chiều cao  trung bình (\"chiều cao trung bình của người trưởng thành không bằng 66,5inch)\n",
    "$$H_{a}: \\mu ≠ 66.5  $$\n",
    "\n",
    "với:\n",
    "\n",
    "- Hệ số sig = 0.05\n",
    "- Chỉ số t tương ứng với hệ số sig ở trên là 1.645\n",
    "\n",
    "Công thức:\n",
    "$$Z = \\frac{(\\overline{\\rm X} - \\mu)}{(\\sigma / \\sqrt{n})}$$\n",
    "\n",
    "Áp dụng với các giá trị nêu trên:\n",
    "\n",
    "- $\\overline{\\rm X} = 110$\n",
    "- $\\mu = 100$\n",
    "- $\\sigma = 15$\n",
    "- $\\alpha = 0.05$\n",
    "- $n =50$\n",
    "\n",
    "$$Z = \\frac{(110 - 100)}{(15 / \\sqrt{50})} = 4.71$$\n",
    "\n",
    "Giá trị z = 4.71 > 1.645 nên có bằng chứng để bác bỏ giả thuyết $H_{0}$\n"
   ]
  },
  {
   "cell_type": "code",
   "execution_count": 7,
   "metadata": {},
   "outputs": [],
   "source": [
    "import random\n",
    "import seaborn as sns\n",
    "import matplotlib.pyplot as plt\n",
    "from scipy import stats"
   ]
  },
  {
   "cell_type": "code",
   "execution_count": 8,
   "metadata": {},
   "outputs": [],
   "source": [
    "random.seed(20) #for results to be recreated\n",
    "N = 30 #number of samples to take from each population\n",
    "a = [random.gauss(50,15) for x in range(N)] #take N samples from population A\n",
    "popmean = 50.5  #hypothesized population mean"
   ]
  },
  {
   "cell_type": "code",
   "execution_count": 10,
   "metadata": {},
   "outputs": [
    {
     "name": "stdout",
     "output_type": "stream",
     "text": [
      "P-Value:0.5340949682112062 T-Statistic:0.6292755379958038\n"
     ]
    }
   ],
   "source": [
    "tStat, pValue =  stats.ttest_1samp(a, popmean, axis=0)\n",
    "print(\"P-Value:{0} T-Statistic:{1}\".format(pValue,tStat)) #print the P-Value and the T-Statistic\n",
    "###P-Value:0.5340949682112062 T-Statistic:0.6292755379958038"
   ]
  }
 ],
 "metadata": {
  "kernelspec": {
   "display_name": "Python 3",
   "language": "python",
   "name": "python3"
  },
  "language_info": {
   "codemirror_mode": {
    "name": "ipython",
    "version": 3
   },
   "file_extension": ".py",
   "mimetype": "text/x-python",
   "name": "python",
   "nbconvert_exporter": "python",
   "pygments_lexer": "ipython3",
   "version": "3.8.3"
  }
 },
 "nbformat": 4,
 "nbformat_minor": 4
}
